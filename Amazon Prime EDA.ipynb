{
 "cells": [
  {
   "cell_type": "markdown",
   "id": "fc170164",
   "metadata": {},
   "source": [
    "# AMAZON PRIME DATA EXPLORATION\n",
    "\n",
    "    "
   ]
  },
  {
   "cell_type": "markdown",
   "id": "40d2b9bc",
   "metadata": {},
   "source": [
    "#### Importing libraries"
   ]
  },
  {
   "cell_type": "code",
   "execution_count": 1,
   "id": "7c509ab9",
   "metadata": {},
   "outputs": [],
   "source": [
    "import numpy as np\n",
    "import pandas as pd\n",
    "import matplotlib.pyplot as plt\n",
    "import seaborn as sns"
   ]
  },
  {
   "cell_type": "markdown",
   "id": "f25c535e",
   "metadata": {},
   "source": [
    "#### importing dataset"
   ]
  },
  {
   "cell_type": "code",
   "execution_count": 2,
   "id": "6f4bf866",
   "metadata": {},
   "outputs": [],
   "source": [
    "df=pd.read_csv(r\"C:\\Users\\satyaki basak\\Downloads\\archive (4)\\amazon_prime_titles.csv\")"
   ]
  },
  {
   "cell_type": "markdown",
   "id": "cd383ef1",
   "metadata": {},
   "source": [
    "#### Basic analysis"
   ]
  },
  {
   "cell_type": "code",
   "execution_count": 3,
   "id": "2dcff13e",
   "metadata": {},
   "outputs": [
    {
     "data": {
      "text/html": [
       "<div>\n",
       "<style scoped>\n",
       "    .dataframe tbody tr th:only-of-type {\n",
       "        vertical-align: middle;\n",
       "    }\n",
       "\n",
       "    .dataframe tbody tr th {\n",
       "        vertical-align: top;\n",
       "    }\n",
       "\n",
       "    .dataframe thead th {\n",
       "        text-align: right;\n",
       "    }\n",
       "</style>\n",
       "<table border=\"1\" class=\"dataframe\">\n",
       "  <thead>\n",
       "    <tr style=\"text-align: right;\">\n",
       "      <th></th>\n",
       "      <th>show_id</th>\n",
       "      <th>type</th>\n",
       "      <th>title</th>\n",
       "      <th>director</th>\n",
       "      <th>cast</th>\n",
       "      <th>country</th>\n",
       "      <th>date_added</th>\n",
       "      <th>release_year</th>\n",
       "      <th>rating</th>\n",
       "      <th>duration</th>\n",
       "      <th>listed_in</th>\n",
       "      <th>description</th>\n",
       "    </tr>\n",
       "  </thead>\n",
       "  <tbody>\n",
       "    <tr>\n",
       "      <th>0</th>\n",
       "      <td>s1</td>\n",
       "      <td>Movie</td>\n",
       "      <td>The Grand Seduction</td>\n",
       "      <td>Don McKellar</td>\n",
       "      <td>Brendan Gleeson, Taylor Kitsch, Gordon Pinsent</td>\n",
       "      <td>Canada</td>\n",
       "      <td>March 30, 2021</td>\n",
       "      <td>2014</td>\n",
       "      <td>NaN</td>\n",
       "      <td>113 min</td>\n",
       "      <td>Comedy, Drama</td>\n",
       "      <td>A small fishing village must procure a local d...</td>\n",
       "    </tr>\n",
       "    <tr>\n",
       "      <th>1</th>\n",
       "      <td>s2</td>\n",
       "      <td>Movie</td>\n",
       "      <td>Take Care Good Night</td>\n",
       "      <td>Girish Joshi</td>\n",
       "      <td>Mahesh Manjrekar, Abhay Mahajan, Sachin Khedekar</td>\n",
       "      <td>India</td>\n",
       "      <td>March 30, 2021</td>\n",
       "      <td>2018</td>\n",
       "      <td>13+</td>\n",
       "      <td>110 min</td>\n",
       "      <td>Drama, International</td>\n",
       "      <td>A Metro Family decides to fight a Cyber Crimin...</td>\n",
       "    </tr>\n",
       "    <tr>\n",
       "      <th>2</th>\n",
       "      <td>s3</td>\n",
       "      <td>Movie</td>\n",
       "      <td>Secrets of Deception</td>\n",
       "      <td>Josh Webber</td>\n",
       "      <td>Tom Sizemore, Lorenzo Lamas, Robert LaSardo, R...</td>\n",
       "      <td>United States</td>\n",
       "      <td>March 30, 2021</td>\n",
       "      <td>2017</td>\n",
       "      <td>NaN</td>\n",
       "      <td>74 min</td>\n",
       "      <td>Action, Drama, Suspense</td>\n",
       "      <td>After a man discovers his wife is cheating on ...</td>\n",
       "    </tr>\n",
       "    <tr>\n",
       "      <th>3</th>\n",
       "      <td>s4</td>\n",
       "      <td>Movie</td>\n",
       "      <td>Pink: Staying True</td>\n",
       "      <td>Sonia Anderson</td>\n",
       "      <td>Interviews with: Pink, Adele, Beyoncé, Britney...</td>\n",
       "      <td>United States</td>\n",
       "      <td>March 30, 2021</td>\n",
       "      <td>2014</td>\n",
       "      <td>NaN</td>\n",
       "      <td>69 min</td>\n",
       "      <td>Documentary</td>\n",
       "      <td>Pink breaks the mold once again, bringing her ...</td>\n",
       "    </tr>\n",
       "    <tr>\n",
       "      <th>4</th>\n",
       "      <td>s5</td>\n",
       "      <td>Movie</td>\n",
       "      <td>Monster Maker</td>\n",
       "      <td>Giles Foster</td>\n",
       "      <td>Harry Dean Stanton, Kieran O'Brien, George Cos...</td>\n",
       "      <td>United Kingdom</td>\n",
       "      <td>March 30, 2021</td>\n",
       "      <td>1989</td>\n",
       "      <td>NaN</td>\n",
       "      <td>45 min</td>\n",
       "      <td>Drama, Fantasy</td>\n",
       "      <td>Teenage Matt Banting wants to work with a famo...</td>\n",
       "    </tr>\n",
       "  </tbody>\n",
       "</table>\n",
       "</div>"
      ],
      "text/plain": [
       "  show_id   type                 title        director  \\\n",
       "0      s1  Movie   The Grand Seduction    Don McKellar   \n",
       "1      s2  Movie  Take Care Good Night    Girish Joshi   \n",
       "2      s3  Movie  Secrets of Deception     Josh Webber   \n",
       "3      s4  Movie    Pink: Staying True  Sonia Anderson   \n",
       "4      s5  Movie         Monster Maker    Giles Foster   \n",
       "\n",
       "                                                cast         country  \\\n",
       "0     Brendan Gleeson, Taylor Kitsch, Gordon Pinsent          Canada   \n",
       "1   Mahesh Manjrekar, Abhay Mahajan, Sachin Khedekar           India   \n",
       "2  Tom Sizemore, Lorenzo Lamas, Robert LaSardo, R...   United States   \n",
       "3  Interviews with: Pink, Adele, Beyoncé, Britney...   United States   \n",
       "4  Harry Dean Stanton, Kieran O'Brien, George Cos...  United Kingdom   \n",
       "\n",
       "       date_added  release_year rating duration                listed_in  \\\n",
       "0  March 30, 2021          2014    NaN  113 min            Comedy, Drama   \n",
       "1  March 30, 2021          2018    13+  110 min     Drama, International   \n",
       "2  March 30, 2021          2017    NaN   74 min  Action, Drama, Suspense   \n",
       "3  March 30, 2021          2014    NaN   69 min              Documentary   \n",
       "4  March 30, 2021          1989    NaN   45 min           Drama, Fantasy   \n",
       "\n",
       "                                         description  \n",
       "0  A small fishing village must procure a local d...  \n",
       "1  A Metro Family decides to fight a Cyber Crimin...  \n",
       "2  After a man discovers his wife is cheating on ...  \n",
       "3  Pink breaks the mold once again, bringing her ...  \n",
       "4  Teenage Matt Banting wants to work with a famo...  "
      ]
     },
     "execution_count": 3,
     "metadata": {},
     "output_type": "execute_result"
    }
   ],
   "source": [
    "df.head()"
   ]
  },
  {
   "cell_type": "code",
   "execution_count": 4,
   "id": "e39e77c1",
   "metadata": {},
   "outputs": [
    {
     "name": "stdout",
     "output_type": "stream",
     "text": [
      "<class 'pandas.core.frame.DataFrame'>\n",
      "RangeIndex: 9668 entries, 0 to 9667\n",
      "Data columns (total 12 columns):\n",
      " #   Column        Non-Null Count  Dtype \n",
      "---  ------        --------------  ----- \n",
      " 0   show_id       9668 non-null   object\n",
      " 1   type          9668 non-null   object\n",
      " 2   title         9668 non-null   object\n",
      " 3   director      7586 non-null   object\n",
      " 4   cast          8435 non-null   object\n",
      " 5   country       672 non-null    object\n",
      " 6   date_added    155 non-null    object\n",
      " 7   release_year  9668 non-null   int64 \n",
      " 8   rating        9331 non-null   object\n",
      " 9   duration      9668 non-null   object\n",
      " 10  listed_in     9668 non-null   object\n",
      " 11  description   9668 non-null   object\n",
      "dtypes: int64(1), object(11)\n",
      "memory usage: 906.5+ KB\n"
     ]
    }
   ],
   "source": [
    "df.info()"
   ]
  },
  {
   "cell_type": "code",
   "execution_count": 5,
   "id": "c193ea6f",
   "metadata": {},
   "outputs": [
    {
     "data": {
      "text/plain": [
       "show_id            0\n",
       "type               0\n",
       "title              0\n",
       "director        2082\n",
       "cast            1233\n",
       "country         8996\n",
       "date_added      9513\n",
       "release_year       0\n",
       "rating           337\n",
       "duration           0\n",
       "listed_in          0\n",
       "description        0\n",
       "dtype: int64"
      ]
     },
     "execution_count": 5,
     "metadata": {},
     "output_type": "execute_result"
    }
   ],
   "source": [
    "df.isnull().sum()"
   ]
  },
  {
   "cell_type": "code",
   "execution_count": 6,
   "id": "ff364a81",
   "metadata": {},
   "outputs": [
    {
     "data": {
      "text/plain": [
       "(9668, 12)"
      ]
     },
     "execution_count": 6,
     "metadata": {},
     "output_type": "execute_result"
    }
   ],
   "source": [
    "df.shape"
   ]
  },
  {
   "cell_type": "markdown",
   "id": "b901bdd5",
   "metadata": {},
   "source": [
    "#### Un-Nesting the Columns"
   ]
  },
  {
   "cell_type": "code",
   "execution_count": 7,
   "id": "bd2ba055",
   "metadata": {},
   "outputs": [],
   "source": [
    "#Putting comma separate details into a list\n",
    "df['listed_in']=df['listed_in'].str.split(',')"
   ]
  },
  {
   "cell_type": "code",
   "execution_count": 8,
   "id": "fac46faf",
   "metadata": {},
   "outputs": [
    {
     "data": {
      "text/html": [
       "<div>\n",
       "<style scoped>\n",
       "    .dataframe tbody tr th:only-of-type {\n",
       "        vertical-align: middle;\n",
       "    }\n",
       "\n",
       "    .dataframe tbody tr th {\n",
       "        vertical-align: top;\n",
       "    }\n",
       "\n",
       "    .dataframe thead th {\n",
       "        text-align: right;\n",
       "    }\n",
       "</style>\n",
       "<table border=\"1\" class=\"dataframe\">\n",
       "  <thead>\n",
       "    <tr style=\"text-align: right;\">\n",
       "      <th></th>\n",
       "      <th>show_id</th>\n",
       "      <th>type</th>\n",
       "      <th>title</th>\n",
       "      <th>director</th>\n",
       "      <th>cast</th>\n",
       "      <th>country</th>\n",
       "      <th>date_added</th>\n",
       "      <th>release_year</th>\n",
       "      <th>rating</th>\n",
       "      <th>duration</th>\n",
       "      <th>listed_in</th>\n",
       "      <th>description</th>\n",
       "    </tr>\n",
       "  </thead>\n",
       "  <tbody>\n",
       "    <tr>\n",
       "      <th>0</th>\n",
       "      <td>s1</td>\n",
       "      <td>Movie</td>\n",
       "      <td>The Grand Seduction</td>\n",
       "      <td>Don McKellar</td>\n",
       "      <td>Brendan Gleeson, Taylor Kitsch, Gordon Pinsent</td>\n",
       "      <td>Canada</td>\n",
       "      <td>March 30, 2021</td>\n",
       "      <td>2014</td>\n",
       "      <td>NaN</td>\n",
       "      <td>113 min</td>\n",
       "      <td>[Comedy,  Drama]</td>\n",
       "      <td>A small fishing village must procure a local d...</td>\n",
       "    </tr>\n",
       "    <tr>\n",
       "      <th>1</th>\n",
       "      <td>s2</td>\n",
       "      <td>Movie</td>\n",
       "      <td>Take Care Good Night</td>\n",
       "      <td>Girish Joshi</td>\n",
       "      <td>Mahesh Manjrekar, Abhay Mahajan, Sachin Khedekar</td>\n",
       "      <td>India</td>\n",
       "      <td>March 30, 2021</td>\n",
       "      <td>2018</td>\n",
       "      <td>13+</td>\n",
       "      <td>110 min</td>\n",
       "      <td>[Drama,  International]</td>\n",
       "      <td>A Metro Family decides to fight a Cyber Crimin...</td>\n",
       "    </tr>\n",
       "    <tr>\n",
       "      <th>2</th>\n",
       "      <td>s3</td>\n",
       "      <td>Movie</td>\n",
       "      <td>Secrets of Deception</td>\n",
       "      <td>Josh Webber</td>\n",
       "      <td>Tom Sizemore, Lorenzo Lamas, Robert LaSardo, R...</td>\n",
       "      <td>United States</td>\n",
       "      <td>March 30, 2021</td>\n",
       "      <td>2017</td>\n",
       "      <td>NaN</td>\n",
       "      <td>74 min</td>\n",
       "      <td>[Action,  Drama,  Suspense]</td>\n",
       "      <td>After a man discovers his wife is cheating on ...</td>\n",
       "    </tr>\n",
       "    <tr>\n",
       "      <th>3</th>\n",
       "      <td>s4</td>\n",
       "      <td>Movie</td>\n",
       "      <td>Pink: Staying True</td>\n",
       "      <td>Sonia Anderson</td>\n",
       "      <td>Interviews with: Pink, Adele, Beyoncé, Britney...</td>\n",
       "      <td>United States</td>\n",
       "      <td>March 30, 2021</td>\n",
       "      <td>2014</td>\n",
       "      <td>NaN</td>\n",
       "      <td>69 min</td>\n",
       "      <td>[Documentary]</td>\n",
       "      <td>Pink breaks the mold once again, bringing her ...</td>\n",
       "    </tr>\n",
       "    <tr>\n",
       "      <th>4</th>\n",
       "      <td>s5</td>\n",
       "      <td>Movie</td>\n",
       "      <td>Monster Maker</td>\n",
       "      <td>Giles Foster</td>\n",
       "      <td>Harry Dean Stanton, Kieran O'Brien, George Cos...</td>\n",
       "      <td>United Kingdom</td>\n",
       "      <td>March 30, 2021</td>\n",
       "      <td>1989</td>\n",
       "      <td>NaN</td>\n",
       "      <td>45 min</td>\n",
       "      <td>[Drama,  Fantasy]</td>\n",
       "      <td>Teenage Matt Banting wants to work with a famo...</td>\n",
       "    </tr>\n",
       "  </tbody>\n",
       "</table>\n",
       "</div>"
      ],
      "text/plain": [
       "  show_id   type                 title        director  \\\n",
       "0      s1  Movie   The Grand Seduction    Don McKellar   \n",
       "1      s2  Movie  Take Care Good Night    Girish Joshi   \n",
       "2      s3  Movie  Secrets of Deception     Josh Webber   \n",
       "3      s4  Movie    Pink: Staying True  Sonia Anderson   \n",
       "4      s5  Movie         Monster Maker    Giles Foster   \n",
       "\n",
       "                                                cast         country  \\\n",
       "0     Brendan Gleeson, Taylor Kitsch, Gordon Pinsent          Canada   \n",
       "1   Mahesh Manjrekar, Abhay Mahajan, Sachin Khedekar           India   \n",
       "2  Tom Sizemore, Lorenzo Lamas, Robert LaSardo, R...   United States   \n",
       "3  Interviews with: Pink, Adele, Beyoncé, Britney...   United States   \n",
       "4  Harry Dean Stanton, Kieran O'Brien, George Cos...  United Kingdom   \n",
       "\n",
       "       date_added  release_year rating duration                    listed_in  \\\n",
       "0  March 30, 2021          2014    NaN  113 min             [Comedy,  Drama]   \n",
       "1  March 30, 2021          2018    13+  110 min      [Drama,  International]   \n",
       "2  March 30, 2021          2017    NaN   74 min  [Action,  Drama,  Suspense]   \n",
       "3  March 30, 2021          2014    NaN   69 min                [Documentary]   \n",
       "4  March 30, 2021          1989    NaN   45 min            [Drama,  Fantasy]   \n",
       "\n",
       "                                         description  \n",
       "0  A small fishing village must procure a local d...  \n",
       "1  A Metro Family decides to fight a Cyber Crimin...  \n",
       "2  After a man discovers his wife is cheating on ...  \n",
       "3  Pink breaks the mold once again, bringing her ...  \n",
       "4  Teenage Matt Banting wants to work with a famo...  "
      ]
     },
     "execution_count": 8,
     "metadata": {},
     "output_type": "execute_result"
    }
   ],
   "source": [
    "df.head()"
   ]
  },
  {
   "cell_type": "code",
   "execution_count": 9,
   "id": "03bbc378",
   "metadata": {},
   "outputs": [
    {
     "name": "stdout",
     "output_type": "stream",
     "text": [
      "<class 'pandas.core.frame.DataFrame'>\n",
      "RangeIndex: 9668 entries, 0 to 9667\n",
      "Data columns (total 12 columns):\n",
      " #   Column        Non-Null Count  Dtype \n",
      "---  ------        --------------  ----- \n",
      " 0   show_id       9668 non-null   object\n",
      " 1   type          9668 non-null   object\n",
      " 2   title         9668 non-null   object\n",
      " 3   director      7586 non-null   object\n",
      " 4   cast          8435 non-null   object\n",
      " 5   country       672 non-null    object\n",
      " 6   date_added    155 non-null    object\n",
      " 7   release_year  9668 non-null   int64 \n",
      " 8   rating        9331 non-null   object\n",
      " 9   duration      9668 non-null   object\n",
      " 10  listed_in     9668 non-null   object\n",
      " 11  description   9668 non-null   object\n",
      "dtypes: int64(1), object(11)\n",
      "memory usage: 906.5+ KB\n"
     ]
    }
   ],
   "source": [
    "df.info()"
   ]
  },
  {
   "cell_type": "code",
   "execution_count": 10,
   "id": "8e6a918a",
   "metadata": {},
   "outputs": [],
   "source": [
    "df_unnested=df.explode('listed_in').reset_index(drop=True)"
   ]
  },
  {
   "cell_type": "code",
   "execution_count": 11,
   "id": "d88a6ae5",
   "metadata": {},
   "outputs": [
    {
     "name": "stdout",
     "output_type": "stream",
     "text": [
      "<class 'pandas.core.frame.DataFrame'>\n",
      "RangeIndex: 18309 entries, 0 to 18308\n",
      "Data columns (total 12 columns):\n",
      " #   Column        Non-Null Count  Dtype \n",
      "---  ------        --------------  ----- \n",
      " 0   show_id       18309 non-null  object\n",
      " 1   type          18309 non-null  object\n",
      " 2   title         18309 non-null  object\n",
      " 3   director      14681 non-null  object\n",
      " 4   cast          16370 non-null  object\n",
      " 5   country       1378 non-null   object\n",
      " 6   date_added    320 non-null    object\n",
      " 7   release_year  18309 non-null  int64 \n",
      " 8   rating        17559 non-null  object\n",
      " 9   duration      18309 non-null  object\n",
      " 10  listed_in     18309 non-null  object\n",
      " 11  description   18309 non-null  object\n",
      "dtypes: int64(1), object(11)\n",
      "memory usage: 1.7+ MB\n"
     ]
    }
   ],
   "source": [
    "df_unnested.info()"
   ]
  },
  {
   "cell_type": "code",
   "execution_count": 12,
   "id": "e9306380",
   "metadata": {},
   "outputs": [
    {
     "data": {
      "text/html": [
       "<div>\n",
       "<style scoped>\n",
       "    .dataframe tbody tr th:only-of-type {\n",
       "        vertical-align: middle;\n",
       "    }\n",
       "\n",
       "    .dataframe tbody tr th {\n",
       "        vertical-align: top;\n",
       "    }\n",
       "\n",
       "    .dataframe thead th {\n",
       "        text-align: right;\n",
       "    }\n",
       "</style>\n",
       "<table border=\"1\" class=\"dataframe\">\n",
       "  <thead>\n",
       "    <tr style=\"text-align: right;\">\n",
       "      <th></th>\n",
       "      <th>show_id</th>\n",
       "      <th>type</th>\n",
       "      <th>title</th>\n",
       "      <th>director</th>\n",
       "      <th>cast</th>\n",
       "      <th>country</th>\n",
       "      <th>date_added</th>\n",
       "      <th>release_year</th>\n",
       "      <th>rating</th>\n",
       "      <th>duration</th>\n",
       "      <th>listed_in</th>\n",
       "      <th>description</th>\n",
       "    </tr>\n",
       "  </thead>\n",
       "  <tbody>\n",
       "    <tr>\n",
       "      <th>0</th>\n",
       "      <td>s1</td>\n",
       "      <td>Movie</td>\n",
       "      <td>The Grand Seduction</td>\n",
       "      <td>Don McKellar</td>\n",
       "      <td>Brendan Gleeson, Taylor Kitsch, Gordon Pinsent</td>\n",
       "      <td>Canada</td>\n",
       "      <td>March 30, 2021</td>\n",
       "      <td>2014</td>\n",
       "      <td>NaN</td>\n",
       "      <td>113 min</td>\n",
       "      <td>Comedy</td>\n",
       "      <td>A small fishing village must procure a local d...</td>\n",
       "    </tr>\n",
       "    <tr>\n",
       "      <th>1</th>\n",
       "      <td>s1</td>\n",
       "      <td>Movie</td>\n",
       "      <td>The Grand Seduction</td>\n",
       "      <td>Don McKellar</td>\n",
       "      <td>Brendan Gleeson, Taylor Kitsch, Gordon Pinsent</td>\n",
       "      <td>Canada</td>\n",
       "      <td>March 30, 2021</td>\n",
       "      <td>2014</td>\n",
       "      <td>NaN</td>\n",
       "      <td>113 min</td>\n",
       "      <td>Drama</td>\n",
       "      <td>A small fishing village must procure a local d...</td>\n",
       "    </tr>\n",
       "    <tr>\n",
       "      <th>2</th>\n",
       "      <td>s2</td>\n",
       "      <td>Movie</td>\n",
       "      <td>Take Care Good Night</td>\n",
       "      <td>Girish Joshi</td>\n",
       "      <td>Mahesh Manjrekar, Abhay Mahajan, Sachin Khedekar</td>\n",
       "      <td>India</td>\n",
       "      <td>March 30, 2021</td>\n",
       "      <td>2018</td>\n",
       "      <td>13+</td>\n",
       "      <td>110 min</td>\n",
       "      <td>Drama</td>\n",
       "      <td>A Metro Family decides to fight a Cyber Crimin...</td>\n",
       "    </tr>\n",
       "    <tr>\n",
       "      <th>3</th>\n",
       "      <td>s2</td>\n",
       "      <td>Movie</td>\n",
       "      <td>Take Care Good Night</td>\n",
       "      <td>Girish Joshi</td>\n",
       "      <td>Mahesh Manjrekar, Abhay Mahajan, Sachin Khedekar</td>\n",
       "      <td>India</td>\n",
       "      <td>March 30, 2021</td>\n",
       "      <td>2018</td>\n",
       "      <td>13+</td>\n",
       "      <td>110 min</td>\n",
       "      <td>International</td>\n",
       "      <td>A Metro Family decides to fight a Cyber Crimin...</td>\n",
       "    </tr>\n",
       "    <tr>\n",
       "      <th>4</th>\n",
       "      <td>s3</td>\n",
       "      <td>Movie</td>\n",
       "      <td>Secrets of Deception</td>\n",
       "      <td>Josh Webber</td>\n",
       "      <td>Tom Sizemore, Lorenzo Lamas, Robert LaSardo, R...</td>\n",
       "      <td>United States</td>\n",
       "      <td>March 30, 2021</td>\n",
       "      <td>2017</td>\n",
       "      <td>NaN</td>\n",
       "      <td>74 min</td>\n",
       "      <td>Action</td>\n",
       "      <td>After a man discovers his wife is cheating on ...</td>\n",
       "    </tr>\n",
       "  </tbody>\n",
       "</table>\n",
       "</div>"
      ],
      "text/plain": [
       "  show_id   type                 title      director  \\\n",
       "0      s1  Movie   The Grand Seduction  Don McKellar   \n",
       "1      s1  Movie   The Grand Seduction  Don McKellar   \n",
       "2      s2  Movie  Take Care Good Night  Girish Joshi   \n",
       "3      s2  Movie  Take Care Good Night  Girish Joshi   \n",
       "4      s3  Movie  Secrets of Deception   Josh Webber   \n",
       "\n",
       "                                                cast        country  \\\n",
       "0     Brendan Gleeson, Taylor Kitsch, Gordon Pinsent         Canada   \n",
       "1     Brendan Gleeson, Taylor Kitsch, Gordon Pinsent         Canada   \n",
       "2   Mahesh Manjrekar, Abhay Mahajan, Sachin Khedekar          India   \n",
       "3   Mahesh Manjrekar, Abhay Mahajan, Sachin Khedekar          India   \n",
       "4  Tom Sizemore, Lorenzo Lamas, Robert LaSardo, R...  United States   \n",
       "\n",
       "       date_added  release_year rating duration       listed_in  \\\n",
       "0  March 30, 2021          2014    NaN  113 min          Comedy   \n",
       "1  March 30, 2021          2014    NaN  113 min           Drama   \n",
       "2  March 30, 2021          2018    13+  110 min           Drama   \n",
       "3  March 30, 2021          2018    13+  110 min   International   \n",
       "4  March 30, 2021          2017    NaN   74 min          Action   \n",
       "\n",
       "                                         description  \n",
       "0  A small fishing village must procure a local d...  \n",
       "1  A small fishing village must procure a local d...  \n",
       "2  A Metro Family decides to fight a Cyber Crimin...  \n",
       "3  A Metro Family decides to fight a Cyber Crimin...  \n",
       "4  After a man discovers his wife is cheating on ...  "
      ]
     },
     "execution_count": 12,
     "metadata": {},
     "output_type": "execute_result"
    }
   ],
   "source": [
    "df_unnested.head()"
   ]
  },
  {
   "cell_type": "markdown",
   "id": "f8fdf9d7",
   "metadata": {},
   "source": [
    "#### Handling null values"
   ]
  },
  {
   "cell_type": "code",
   "execution_count": 13,
   "id": "aff23d76",
   "metadata": {},
   "outputs": [
    {
     "data": {
      "text/plain": [
       "show_id             0\n",
       "type                0\n",
       "title               0\n",
       "director         3628\n",
       "cast             1939\n",
       "country         16931\n",
       "date_added      17989\n",
       "release_year        0\n",
       "rating            750\n",
       "duration            0\n",
       "listed_in           0\n",
       "description         0\n",
       "dtype: int64"
      ]
     },
     "execution_count": 13,
     "metadata": {},
     "output_type": "execute_result"
    }
   ],
   "source": [
    "df_unnested.isnull().sum()"
   ]
  },
  {
   "cell_type": "code",
   "execution_count": 14,
   "id": "a3ac0134",
   "metadata": {},
   "outputs": [],
   "source": [
    "df_unnested['director']=df_unnested['director'].fillna('Unknown director')\n",
    "df_unnested['cast']=df_unnested['cast'].fillna('Unknown cast')\n",
    "df_unnested['country']=df_unnested['country'].fillna('Unknown country')"
   ]
  },
  {
   "cell_type": "code",
   "execution_count": 15,
   "id": "dbd9aba9",
   "metadata": {},
   "outputs": [
    {
     "data": {
      "text/plain": [
       "show_id             0\n",
       "type                0\n",
       "title               0\n",
       "director            0\n",
       "cast                0\n",
       "country             0\n",
       "date_added      17989\n",
       "release_year        0\n",
       "rating            750\n",
       "duration            0\n",
       "listed_in           0\n",
       "description         0\n",
       "dtype: int64"
      ]
     },
     "execution_count": 15,
     "metadata": {},
     "output_type": "execute_result"
    }
   ],
   "source": [
    "df_unnested.isnull().sum()"
   ]
  },
  {
   "cell_type": "code",
   "execution_count": 16,
   "id": "68e14c90",
   "metadata": {},
   "outputs": [],
   "source": [
    "df_unnested.dropna(inplace=True,axis=0,subset=['date_added','rating'])"
   ]
  },
  {
   "cell_type": "code",
   "execution_count": 17,
   "id": "e827482a",
   "metadata": {},
   "outputs": [
    {
     "data": {
      "text/plain": [
       "show_id         0\n",
       "type            0\n",
       "title           0\n",
       "director        0\n",
       "cast            0\n",
       "country         0\n",
       "date_added      0\n",
       "release_year    0\n",
       "rating          0\n",
       "duration        0\n",
       "listed_in       0\n",
       "description     0\n",
       "dtype: int64"
      ]
     },
     "execution_count": 17,
     "metadata": {},
     "output_type": "execute_result"
    }
   ],
   "source": [
    "df_unnested.isnull().sum()"
   ]
  },
  {
   "cell_type": "code",
   "execution_count": 18,
   "id": "9b9055c0",
   "metadata": {},
   "outputs": [
    {
     "data": {
      "text/html": [
       "<div>\n",
       "<style scoped>\n",
       "    .dataframe tbody tr th:only-of-type {\n",
       "        vertical-align: middle;\n",
       "    }\n",
       "\n",
       "    .dataframe tbody tr th {\n",
       "        vertical-align: top;\n",
       "    }\n",
       "\n",
       "    .dataframe thead th {\n",
       "        text-align: right;\n",
       "    }\n",
       "</style>\n",
       "<table border=\"1\" class=\"dataframe\">\n",
       "  <thead>\n",
       "    <tr style=\"text-align: right;\">\n",
       "      <th></th>\n",
       "      <th>show_id</th>\n",
       "      <th>type</th>\n",
       "      <th>title</th>\n",
       "      <th>director</th>\n",
       "      <th>cast</th>\n",
       "      <th>country</th>\n",
       "      <th>date_added</th>\n",
       "      <th>release_year</th>\n",
       "      <th>rating</th>\n",
       "      <th>duration</th>\n",
       "      <th>listed_in</th>\n",
       "      <th>description</th>\n",
       "    </tr>\n",
       "  </thead>\n",
       "  <tbody>\n",
       "    <tr>\n",
       "      <th>2</th>\n",
       "      <td>s2</td>\n",
       "      <td>Movie</td>\n",
       "      <td>Take Care Good Night</td>\n",
       "      <td>Girish Joshi</td>\n",
       "      <td>Mahesh Manjrekar, Abhay Mahajan, Sachin Khedekar</td>\n",
       "      <td>India</td>\n",
       "      <td>March 30, 2021</td>\n",
       "      <td>2018</td>\n",
       "      <td>13+</td>\n",
       "      <td>110 min</td>\n",
       "      <td>Drama</td>\n",
       "      <td>A Metro Family decides to fight a Cyber Crimin...</td>\n",
       "    </tr>\n",
       "    <tr>\n",
       "      <th>3</th>\n",
       "      <td>s2</td>\n",
       "      <td>Movie</td>\n",
       "      <td>Take Care Good Night</td>\n",
       "      <td>Girish Joshi</td>\n",
       "      <td>Mahesh Manjrekar, Abhay Mahajan, Sachin Khedekar</td>\n",
       "      <td>India</td>\n",
       "      <td>March 30, 2021</td>\n",
       "      <td>2018</td>\n",
       "      <td>13+</td>\n",
       "      <td>110 min</td>\n",
       "      <td>International</td>\n",
       "      <td>A Metro Family decides to fight a Cyber Crimin...</td>\n",
       "    </tr>\n",
       "    <tr>\n",
       "      <th>1052</th>\n",
       "      <td>s554</td>\n",
       "      <td>TV Show</td>\n",
       "      <td>The Lucy Show</td>\n",
       "      <td>Unknown director</td>\n",
       "      <td>Lucille Ball, Vivian Vance, Gale Gordon, Jimmy...</td>\n",
       "      <td>Unknown country</td>\n",
       "      <td>March 30, 2021</td>\n",
       "      <td>1967</td>\n",
       "      <td>13+</td>\n",
       "      <td>3 Seasons</td>\n",
       "      <td>Comedy</td>\n",
       "      <td>After her husband's death, Lucy Carmichael, an...</td>\n",
       "    </tr>\n",
       "    <tr>\n",
       "      <th>2020</th>\n",
       "      <td>s1090</td>\n",
       "      <td>TV Show</td>\n",
       "      <td>Scaredy Squirrel</td>\n",
       "      <td>Unknown director</td>\n",
       "      <td>Terry McGurrin, Jonathan Gould, Pat McKenna, L...</td>\n",
       "      <td>Unknown country</td>\n",
       "      <td>March 30, 2021</td>\n",
       "      <td>2012</td>\n",
       "      <td>TV-G</td>\n",
       "      <td>4 Seasons</td>\n",
       "      <td>Animation</td>\n",
       "      <td>Based on a series of children's books written ...</td>\n",
       "    </tr>\n",
       "    <tr>\n",
       "      <th>2021</th>\n",
       "      <td>s1090</td>\n",
       "      <td>TV Show</td>\n",
       "      <td>Scaredy Squirrel</td>\n",
       "      <td>Unknown director</td>\n",
       "      <td>Terry McGurrin, Jonathan Gould, Pat McKenna, L...</td>\n",
       "      <td>Unknown country</td>\n",
       "      <td>March 30, 2021</td>\n",
       "      <td>2012</td>\n",
       "      <td>TV-G</td>\n",
       "      <td>4 Seasons</td>\n",
       "      <td>Kids</td>\n",
       "      <td>Based on a series of children's books written ...</td>\n",
       "    </tr>\n",
       "  </tbody>\n",
       "</table>\n",
       "</div>"
      ],
      "text/plain": [
       "     show_id     type                 title          director  \\\n",
       "2         s2    Movie  Take Care Good Night      Girish Joshi   \n",
       "3         s2    Movie  Take Care Good Night      Girish Joshi   \n",
       "1052    s554  TV Show         The Lucy Show  Unknown director   \n",
       "2020   s1090  TV Show      Scaredy Squirrel  Unknown director   \n",
       "2021   s1090  TV Show      Scaredy Squirrel  Unknown director   \n",
       "\n",
       "                                                   cast          country  \\\n",
       "2      Mahesh Manjrekar, Abhay Mahajan, Sachin Khedekar            India   \n",
       "3      Mahesh Manjrekar, Abhay Mahajan, Sachin Khedekar            India   \n",
       "1052  Lucille Ball, Vivian Vance, Gale Gordon, Jimmy...  Unknown country   \n",
       "2020  Terry McGurrin, Jonathan Gould, Pat McKenna, L...  Unknown country   \n",
       "2021  Terry McGurrin, Jonathan Gould, Pat McKenna, L...  Unknown country   \n",
       "\n",
       "          date_added  release_year rating   duration       listed_in  \\\n",
       "2     March 30, 2021          2018    13+    110 min           Drama   \n",
       "3     March 30, 2021          2018    13+    110 min   International   \n",
       "1052  March 30, 2021          1967    13+  3 Seasons          Comedy   \n",
       "2020  March 30, 2021          2012   TV-G  4 Seasons       Animation   \n",
       "2021  March 30, 2021          2012   TV-G  4 Seasons            Kids   \n",
       "\n",
       "                                            description  \n",
       "2     A Metro Family decides to fight a Cyber Crimin...  \n",
       "3     A Metro Family decides to fight a Cyber Crimin...  \n",
       "1052  After her husband's death, Lucy Carmichael, an...  \n",
       "2020  Based on a series of children's books written ...  \n",
       "2021  Based on a series of children's books written ...  "
      ]
     },
     "execution_count": 18,
     "metadata": {},
     "output_type": "execute_result"
    }
   ],
   "source": [
    "df_unnested.head()"
   ]
  },
  {
   "cell_type": "code",
   "execution_count": 19,
   "id": "bb5b42c2",
   "metadata": {},
   "outputs": [],
   "source": [
    "#Unnesting the cast column\n",
    "df_unnested['cast']=df_unnested['cast'].str.split(',')\n",
    "df_un=df_unnested.explode('cast').reset_index(drop=True)"
   ]
  },
  {
   "cell_type": "code",
   "execution_count": 20,
   "id": "89a0a28a",
   "metadata": {},
   "outputs": [
    {
     "data": {
      "text/html": [
       "<div>\n",
       "<style scoped>\n",
       "    .dataframe tbody tr th:only-of-type {\n",
       "        vertical-align: middle;\n",
       "    }\n",
       "\n",
       "    .dataframe tbody tr th {\n",
       "        vertical-align: top;\n",
       "    }\n",
       "\n",
       "    .dataframe thead th {\n",
       "        text-align: right;\n",
       "    }\n",
       "</style>\n",
       "<table border=\"1\" class=\"dataframe\">\n",
       "  <thead>\n",
       "    <tr style=\"text-align: right;\">\n",
       "      <th></th>\n",
       "      <th>show_id</th>\n",
       "      <th>type</th>\n",
       "      <th>title</th>\n",
       "      <th>director</th>\n",
       "      <th>cast</th>\n",
       "      <th>country</th>\n",
       "      <th>date_added</th>\n",
       "      <th>release_year</th>\n",
       "      <th>rating</th>\n",
       "      <th>duration</th>\n",
       "      <th>listed_in</th>\n",
       "      <th>description</th>\n",
       "    </tr>\n",
       "  </thead>\n",
       "  <tbody>\n",
       "    <tr>\n",
       "      <th>0</th>\n",
       "      <td>s2</td>\n",
       "      <td>Movie</td>\n",
       "      <td>Take Care Good Night</td>\n",
       "      <td>Girish Joshi</td>\n",
       "      <td>Mahesh Manjrekar</td>\n",
       "      <td>India</td>\n",
       "      <td>March 30, 2021</td>\n",
       "      <td>2018</td>\n",
       "      <td>13+</td>\n",
       "      <td>110 min</td>\n",
       "      <td>Drama</td>\n",
       "      <td>A Metro Family decides to fight a Cyber Crimin...</td>\n",
       "    </tr>\n",
       "    <tr>\n",
       "      <th>1</th>\n",
       "      <td>s2</td>\n",
       "      <td>Movie</td>\n",
       "      <td>Take Care Good Night</td>\n",
       "      <td>Girish Joshi</td>\n",
       "      <td>Abhay Mahajan</td>\n",
       "      <td>India</td>\n",
       "      <td>March 30, 2021</td>\n",
       "      <td>2018</td>\n",
       "      <td>13+</td>\n",
       "      <td>110 min</td>\n",
       "      <td>Drama</td>\n",
       "      <td>A Metro Family decides to fight a Cyber Crimin...</td>\n",
       "    </tr>\n",
       "    <tr>\n",
       "      <th>2</th>\n",
       "      <td>s2</td>\n",
       "      <td>Movie</td>\n",
       "      <td>Take Care Good Night</td>\n",
       "      <td>Girish Joshi</td>\n",
       "      <td>Sachin Khedekar</td>\n",
       "      <td>India</td>\n",
       "      <td>March 30, 2021</td>\n",
       "      <td>2018</td>\n",
       "      <td>13+</td>\n",
       "      <td>110 min</td>\n",
       "      <td>Drama</td>\n",
       "      <td>A Metro Family decides to fight a Cyber Crimin...</td>\n",
       "    </tr>\n",
       "    <tr>\n",
       "      <th>3</th>\n",
       "      <td>s2</td>\n",
       "      <td>Movie</td>\n",
       "      <td>Take Care Good Night</td>\n",
       "      <td>Girish Joshi</td>\n",
       "      <td>Mahesh Manjrekar</td>\n",
       "      <td>India</td>\n",
       "      <td>March 30, 2021</td>\n",
       "      <td>2018</td>\n",
       "      <td>13+</td>\n",
       "      <td>110 min</td>\n",
       "      <td>International</td>\n",
       "      <td>A Metro Family decides to fight a Cyber Crimin...</td>\n",
       "    </tr>\n",
       "    <tr>\n",
       "      <th>4</th>\n",
       "      <td>s2</td>\n",
       "      <td>Movie</td>\n",
       "      <td>Take Care Good Night</td>\n",
       "      <td>Girish Joshi</td>\n",
       "      <td>Abhay Mahajan</td>\n",
       "      <td>India</td>\n",
       "      <td>March 30, 2021</td>\n",
       "      <td>2018</td>\n",
       "      <td>13+</td>\n",
       "      <td>110 min</td>\n",
       "      <td>International</td>\n",
       "      <td>A Metro Family decides to fight a Cyber Crimin...</td>\n",
       "    </tr>\n",
       "  </tbody>\n",
       "</table>\n",
       "</div>"
      ],
      "text/plain": [
       "  show_id   type                 title      director              cast  \\\n",
       "0      s2  Movie  Take Care Good Night  Girish Joshi  Mahesh Manjrekar   \n",
       "1      s2  Movie  Take Care Good Night  Girish Joshi     Abhay Mahajan   \n",
       "2      s2  Movie  Take Care Good Night  Girish Joshi   Sachin Khedekar   \n",
       "3      s2  Movie  Take Care Good Night  Girish Joshi  Mahesh Manjrekar   \n",
       "4      s2  Movie  Take Care Good Night  Girish Joshi     Abhay Mahajan   \n",
       "\n",
       "  country      date_added  release_year rating duration       listed_in  \\\n",
       "0   India  March 30, 2021          2018    13+  110 min           Drama   \n",
       "1   India  March 30, 2021          2018    13+  110 min           Drama   \n",
       "2   India  March 30, 2021          2018    13+  110 min           Drama   \n",
       "3   India  March 30, 2021          2018    13+  110 min   International   \n",
       "4   India  March 30, 2021          2018    13+  110 min   International   \n",
       "\n",
       "                                         description  \n",
       "0  A Metro Family decides to fight a Cyber Crimin...  \n",
       "1  A Metro Family decides to fight a Cyber Crimin...  \n",
       "2  A Metro Family decides to fight a Cyber Crimin...  \n",
       "3  A Metro Family decides to fight a Cyber Crimin...  \n",
       "4  A Metro Family decides to fight a Cyber Crimin...  "
      ]
     },
     "execution_count": 20,
     "metadata": {},
     "output_type": "execute_result"
    }
   ],
   "source": [
    "df_un.head()"
   ]
  },
  {
   "cell_type": "code",
   "execution_count": 21,
   "id": "65aa08be",
   "metadata": {},
   "outputs": [
    {
     "data": {
      "text/plain": [
       "(293, 12)"
      ]
     },
     "execution_count": 21,
     "metadata": {},
     "output_type": "execute_result"
    }
   ],
   "source": [
    "df_unnested.shape"
   ]
  },
  {
   "cell_type": "code",
   "execution_count": 22,
   "id": "6444317a",
   "metadata": {},
   "outputs": [
    {
     "data": {
      "text/plain": [
       "(1295, 12)"
      ]
     },
     "execution_count": 22,
     "metadata": {},
     "output_type": "execute_result"
    }
   ],
   "source": [
    "df_un.shape"
   ]
  },
  {
   "cell_type": "markdown",
   "id": "18433af7",
   "metadata": {},
   "source": [
    "#### Treatment on the original dataframe"
   ]
  },
  {
   "cell_type": "code",
   "execution_count": 23,
   "id": "58717fd2",
   "metadata": {},
   "outputs": [
    {
     "data": {
      "text/html": [
       "<div>\n",
       "<style scoped>\n",
       "    .dataframe tbody tr th:only-of-type {\n",
       "        vertical-align: middle;\n",
       "    }\n",
       "\n",
       "    .dataframe tbody tr th {\n",
       "        vertical-align: top;\n",
       "    }\n",
       "\n",
       "    .dataframe thead th {\n",
       "        text-align: right;\n",
       "    }\n",
       "</style>\n",
       "<table border=\"1\" class=\"dataframe\">\n",
       "  <thead>\n",
       "    <tr style=\"text-align: right;\">\n",
       "      <th></th>\n",
       "      <th>type</th>\n",
       "      <th>title</th>\n",
       "      <th>director</th>\n",
       "      <th>cast</th>\n",
       "      <th>country</th>\n",
       "      <th>date_added</th>\n",
       "      <th>release_year</th>\n",
       "      <th>rating</th>\n",
       "      <th>duration</th>\n",
       "      <th>listed_in</th>\n",
       "      <th>description</th>\n",
       "    </tr>\n",
       "  </thead>\n",
       "  <tbody>\n",
       "    <tr>\n",
       "      <th>0</th>\n",
       "      <td>Movie</td>\n",
       "      <td>The Grand Seduction</td>\n",
       "      <td>Don McKellar</td>\n",
       "      <td>Brendan Gleeson, Taylor Kitsch, Gordon Pinsent</td>\n",
       "      <td>Canada</td>\n",
       "      <td>March 30, 2021</td>\n",
       "      <td>2014</td>\n",
       "      <td>NaN</td>\n",
       "      <td>113 min</td>\n",
       "      <td>[Comedy,  Drama]</td>\n",
       "      <td>A small fishing village must procure a local d...</td>\n",
       "    </tr>\n",
       "    <tr>\n",
       "      <th>1</th>\n",
       "      <td>Movie</td>\n",
       "      <td>Take Care Good Night</td>\n",
       "      <td>Girish Joshi</td>\n",
       "      <td>Mahesh Manjrekar, Abhay Mahajan, Sachin Khedekar</td>\n",
       "      <td>India</td>\n",
       "      <td>March 30, 2021</td>\n",
       "      <td>2018</td>\n",
       "      <td>13+</td>\n",
       "      <td>110 min</td>\n",
       "      <td>[Drama,  International]</td>\n",
       "      <td>A Metro Family decides to fight a Cyber Crimin...</td>\n",
       "    </tr>\n",
       "    <tr>\n",
       "      <th>2</th>\n",
       "      <td>Movie</td>\n",
       "      <td>Secrets of Deception</td>\n",
       "      <td>Josh Webber</td>\n",
       "      <td>Tom Sizemore, Lorenzo Lamas, Robert LaSardo, R...</td>\n",
       "      <td>United States</td>\n",
       "      <td>March 30, 2021</td>\n",
       "      <td>2017</td>\n",
       "      <td>NaN</td>\n",
       "      <td>74 min</td>\n",
       "      <td>[Action,  Drama,  Suspense]</td>\n",
       "      <td>After a man discovers his wife is cheating on ...</td>\n",
       "    </tr>\n",
       "    <tr>\n",
       "      <th>3</th>\n",
       "      <td>Movie</td>\n",
       "      <td>Pink: Staying True</td>\n",
       "      <td>Sonia Anderson</td>\n",
       "      <td>Interviews with: Pink, Adele, Beyoncé, Britney...</td>\n",
       "      <td>United States</td>\n",
       "      <td>March 30, 2021</td>\n",
       "      <td>2014</td>\n",
       "      <td>NaN</td>\n",
       "      <td>69 min</td>\n",
       "      <td>[Documentary]</td>\n",
       "      <td>Pink breaks the mold once again, bringing her ...</td>\n",
       "    </tr>\n",
       "    <tr>\n",
       "      <th>4</th>\n",
       "      <td>Movie</td>\n",
       "      <td>Monster Maker</td>\n",
       "      <td>Giles Foster</td>\n",
       "      <td>Harry Dean Stanton, Kieran O'Brien, George Cos...</td>\n",
       "      <td>United Kingdom</td>\n",
       "      <td>March 30, 2021</td>\n",
       "      <td>1989</td>\n",
       "      <td>NaN</td>\n",
       "      <td>45 min</td>\n",
       "      <td>[Drama,  Fantasy]</td>\n",
       "      <td>Teenage Matt Banting wants to work with a famo...</td>\n",
       "    </tr>\n",
       "    <tr>\n",
       "      <th>...</th>\n",
       "      <td>...</td>\n",
       "      <td>...</td>\n",
       "      <td>...</td>\n",
       "      <td>...</td>\n",
       "      <td>...</td>\n",
       "      <td>...</td>\n",
       "      <td>...</td>\n",
       "      <td>...</td>\n",
       "      <td>...</td>\n",
       "      <td>...</td>\n",
       "      <td>...</td>\n",
       "    </tr>\n",
       "    <tr>\n",
       "      <th>9663</th>\n",
       "      <td>Movie</td>\n",
       "      <td>Pride Of The Bowery</td>\n",
       "      <td>Joseph H. Lewis</td>\n",
       "      <td>Leo Gorcey, Bobby Jordan</td>\n",
       "      <td>NaN</td>\n",
       "      <td>NaN</td>\n",
       "      <td>1940</td>\n",
       "      <td>7+</td>\n",
       "      <td>60 min</td>\n",
       "      <td>[Comedy]</td>\n",
       "      <td>New York City street principles get an East Si...</td>\n",
       "    </tr>\n",
       "    <tr>\n",
       "      <th>9664</th>\n",
       "      <td>TV Show</td>\n",
       "      <td>Planet Patrol</td>\n",
       "      <td>NaN</td>\n",
       "      <td>DICK VOSBURGH, RONNIE STEVENS, LIBBY MORRIS, M...</td>\n",
       "      <td>NaN</td>\n",
       "      <td>NaN</td>\n",
       "      <td>2018</td>\n",
       "      <td>13+</td>\n",
       "      <td>4 Seasons</td>\n",
       "      <td>[TV Shows]</td>\n",
       "      <td>This is Earth, 2100AD - and these are the adve...</td>\n",
       "    </tr>\n",
       "    <tr>\n",
       "      <th>9665</th>\n",
       "      <td>Movie</td>\n",
       "      <td>Outpost</td>\n",
       "      <td>Steve Barker</td>\n",
       "      <td>Ray Stevenson, Julian Wadham, Richard Brake, M...</td>\n",
       "      <td>NaN</td>\n",
       "      <td>NaN</td>\n",
       "      <td>2008</td>\n",
       "      <td>R</td>\n",
       "      <td>90 min</td>\n",
       "      <td>[Action]</td>\n",
       "      <td>In war-torn Eastern Europe, a world-weary grou...</td>\n",
       "    </tr>\n",
       "    <tr>\n",
       "      <th>9666</th>\n",
       "      <td>TV Show</td>\n",
       "      <td>Maradona: Blessed Dream</td>\n",
       "      <td>NaN</td>\n",
       "      <td>Esteban Recagno, Ezequiel Stremiz, Luciano Vit...</td>\n",
       "      <td>NaN</td>\n",
       "      <td>NaN</td>\n",
       "      <td>2021</td>\n",
       "      <td>TV-MA</td>\n",
       "      <td>1 Season</td>\n",
       "      <td>[Drama,  Sports]</td>\n",
       "      <td>The series tells the story of Diego Maradona, ...</td>\n",
       "    </tr>\n",
       "    <tr>\n",
       "      <th>9667</th>\n",
       "      <td>Movie</td>\n",
       "      <td>Harry Brown</td>\n",
       "      <td>Daniel Barber</td>\n",
       "      <td>Michael Caine, Emily Mortimer, Joseph Gilgun, ...</td>\n",
       "      <td>NaN</td>\n",
       "      <td>NaN</td>\n",
       "      <td>2010</td>\n",
       "      <td>R</td>\n",
       "      <td>103 min</td>\n",
       "      <td>[Action,  Drama,  Suspense]</td>\n",
       "      <td>Harry Brown, starring two-time Academy Award w...</td>\n",
       "    </tr>\n",
       "  </tbody>\n",
       "</table>\n",
       "<p>9668 rows × 11 columns</p>\n",
       "</div>"
      ],
      "text/plain": [
       "         type                    title         director  \\\n",
       "0       Movie      The Grand Seduction     Don McKellar   \n",
       "1       Movie     Take Care Good Night     Girish Joshi   \n",
       "2       Movie     Secrets of Deception      Josh Webber   \n",
       "3       Movie       Pink: Staying True   Sonia Anderson   \n",
       "4       Movie            Monster Maker     Giles Foster   \n",
       "...       ...                      ...              ...   \n",
       "9663    Movie      Pride Of The Bowery  Joseph H. Lewis   \n",
       "9664  TV Show            Planet Patrol              NaN   \n",
       "9665    Movie                  Outpost     Steve Barker   \n",
       "9666  TV Show  Maradona: Blessed Dream              NaN   \n",
       "9667    Movie              Harry Brown    Daniel Barber   \n",
       "\n",
       "                                                   cast         country  \\\n",
       "0        Brendan Gleeson, Taylor Kitsch, Gordon Pinsent          Canada   \n",
       "1      Mahesh Manjrekar, Abhay Mahajan, Sachin Khedekar           India   \n",
       "2     Tom Sizemore, Lorenzo Lamas, Robert LaSardo, R...   United States   \n",
       "3     Interviews with: Pink, Adele, Beyoncé, Britney...   United States   \n",
       "4     Harry Dean Stanton, Kieran O'Brien, George Cos...  United Kingdom   \n",
       "...                                                 ...             ...   \n",
       "9663                           Leo Gorcey, Bobby Jordan             NaN   \n",
       "9664  DICK VOSBURGH, RONNIE STEVENS, LIBBY MORRIS, M...             NaN   \n",
       "9665  Ray Stevenson, Julian Wadham, Richard Brake, M...             NaN   \n",
       "9666  Esteban Recagno, Ezequiel Stremiz, Luciano Vit...             NaN   \n",
       "9667  Michael Caine, Emily Mortimer, Joseph Gilgun, ...             NaN   \n",
       "\n",
       "          date_added  release_year rating   duration  \\\n",
       "0     March 30, 2021          2014    NaN    113 min   \n",
       "1     March 30, 2021          2018    13+    110 min   \n",
       "2     March 30, 2021          2017    NaN     74 min   \n",
       "3     March 30, 2021          2014    NaN     69 min   \n",
       "4     March 30, 2021          1989    NaN     45 min   \n",
       "...              ...           ...    ...        ...   \n",
       "9663             NaN          1940     7+     60 min   \n",
       "9664             NaN          2018    13+  4 Seasons   \n",
       "9665             NaN          2008      R     90 min   \n",
       "9666             NaN          2021  TV-MA   1 Season   \n",
       "9667             NaN          2010      R    103 min   \n",
       "\n",
       "                        listed_in  \\\n",
       "0                [Comedy,  Drama]   \n",
       "1         [Drama,  International]   \n",
       "2     [Action,  Drama,  Suspense]   \n",
       "3                   [Documentary]   \n",
       "4               [Drama,  Fantasy]   \n",
       "...                           ...   \n",
       "9663                     [Comedy]   \n",
       "9664                   [TV Shows]   \n",
       "9665                     [Action]   \n",
       "9666             [Drama,  Sports]   \n",
       "9667  [Action,  Drama,  Suspense]   \n",
       "\n",
       "                                            description  \n",
       "0     A small fishing village must procure a local d...  \n",
       "1     A Metro Family decides to fight a Cyber Crimin...  \n",
       "2     After a man discovers his wife is cheating on ...  \n",
       "3     Pink breaks the mold once again, bringing her ...  \n",
       "4     Teenage Matt Banting wants to work with a famo...  \n",
       "...                                                 ...  \n",
       "9663  New York City street principles get an East Si...  \n",
       "9664  This is Earth, 2100AD - and these are the adve...  \n",
       "9665  In war-torn Eastern Europe, a world-weary grou...  \n",
       "9666  The series tells the story of Diego Maradona, ...  \n",
       "9667  Harry Brown, starring two-time Academy Award w...  \n",
       "\n",
       "[9668 rows x 11 columns]"
      ]
     },
     "execution_count": 23,
     "metadata": {},
     "output_type": "execute_result"
    }
   ],
   "source": [
    "#Deleting show id (using original dataframe)\n",
    "df.drop(columns=['show_id'])"
   ]
  },
  {
   "cell_type": "code",
   "execution_count": 24,
   "id": "f0c3b0ac",
   "metadata": {},
   "outputs": [
    {
     "data": {
      "text/plain": [
       "show_id            0\n",
       "type               0\n",
       "title              0\n",
       "director        2082\n",
       "cast            1233\n",
       "country         8996\n",
       "date_added      9513\n",
       "release_year       0\n",
       "rating           337\n",
       "duration           0\n",
       "listed_in          0\n",
       "description        0\n",
       "dtype: int64"
      ]
     },
     "execution_count": 24,
     "metadata": {},
     "output_type": "execute_result"
    }
   ],
   "source": [
    "df.isnull().sum()"
   ]
  },
  {
   "cell_type": "code",
   "execution_count": 25,
   "id": "047fa2d7",
   "metadata": {},
   "outputs": [],
   "source": [
    "df['director']=df['director'].fillna('unknown director')\n",
    "df['country']=df['country'].fillna('unknown country')\n",
    "df['rating']=df['rating'].fillna('unknown rating')\n",
    "df['date_added']=df['date_added'].fillna('unknown date')\n",
    "\n"
   ]
  },
  {
   "cell_type": "code",
   "execution_count": 26,
   "id": "3ec29a7a",
   "metadata": {},
   "outputs": [
    {
     "data": {
      "text/plain": [
       "(9668, 12)"
      ]
     },
     "execution_count": 26,
     "metadata": {},
     "output_type": "execute_result"
    }
   ],
   "source": [
    "df.shape"
   ]
  },
  {
   "cell_type": "code",
   "execution_count": 27,
   "id": "73b7d53b",
   "metadata": {},
   "outputs": [
    {
     "data": {
      "text/plain": [
       "show_id            0\n",
       "type               0\n",
       "title              0\n",
       "director           0\n",
       "cast            1233\n",
       "country            0\n",
       "date_added         0\n",
       "release_year       0\n",
       "rating             0\n",
       "duration           0\n",
       "listed_in          0\n",
       "description        0\n",
       "dtype: int64"
      ]
     },
     "execution_count": 27,
     "metadata": {},
     "output_type": "execute_result"
    }
   ],
   "source": [
    "df.isnull().sum()"
   ]
  },
  {
   "cell_type": "code",
   "execution_count": 28,
   "id": "3cca039a",
   "metadata": {},
   "outputs": [],
   "source": [
    "df.drop('cast',inplace=True,axis=1)"
   ]
  },
  {
   "cell_type": "markdown",
   "id": "c2a1d9cd",
   "metadata": {},
   "source": [
    "### Data Exploration"
   ]
  },
  {
   "cell_type": "code",
   "execution_count": 29,
   "id": "17e98c29",
   "metadata": {},
   "outputs": [
    {
     "data": {
      "text/plain": [
       "unknown country                          8996\n",
       "United States                             253\n",
       "India                                     229\n",
       "United Kingdom                             28\n",
       "Canada                                     16\n",
       "                                         ... \n",
       "United States, Germany, Brazil, Italy       1\n",
       "South Africa                                1\n",
       "Australia, United States, Germany           1\n",
       "Germany, Austria, United States             1\n",
       "Italy, Spain                                1\n",
       "Name: country, Length: 87, dtype: int64"
      ]
     },
     "execution_count": 29,
     "metadata": {},
     "output_type": "execute_result"
    }
   ],
   "source": [
    "df['country'].value_counts()"
   ]
  },
  {
   "cell_type": "code",
   "execution_count": 30,
   "id": "ac341dd0",
   "metadata": {},
   "outputs": [
    {
     "data": {
      "text/plain": [
       "13+               2117\n",
       "16+               1547\n",
       "ALL               1268\n",
       "18+               1243\n",
       "R                 1010\n",
       "PG-13              393\n",
       "7+                 385\n",
       "unknown rating     337\n",
       "PG                 253\n",
       "NR                 223\n",
       "TV-14              208\n",
       "TV-PG              169\n",
       "TV-NR              105\n",
       "G                   93\n",
       "TV-G                81\n",
       "TV-MA               77\n",
       "TV-Y                74\n",
       "TV-Y7               39\n",
       "UNRATED             33\n",
       "NC-17                3\n",
       "AGES_18_             3\n",
       "NOT_RATE             3\n",
       "AGES_16_             2\n",
       "16                   1\n",
       "ALL_AGES             1\n",
       "Name: rating, dtype: int64"
      ]
     },
     "execution_count": 30,
     "metadata": {},
     "output_type": "execute_result"
    }
   ],
   "source": [
    "df['rating'].value_counts()"
   ]
  },
  {
   "cell_type": "code",
   "execution_count": 31,
   "id": "2b82ed4a",
   "metadata": {},
   "outputs": [
    {
     "data": {
      "text/plain": [
       "2021    1442\n",
       "2020     962\n",
       "2019     929\n",
       "2018     623\n",
       "2017     562\n",
       "        ... \n",
       "1922       2\n",
       "1926       2\n",
       "1924       1\n",
       "1923       1\n",
       "1927       1\n",
       "Name: release_year, Length: 100, dtype: int64"
      ]
     },
     "execution_count": 31,
     "metadata": {},
     "output_type": "execute_result"
    }
   ],
   "source": [
    "df['release_year'].value_counts()"
   ]
  },
  {
   "cell_type": "code",
   "execution_count": 32,
   "id": "7dbe00d7",
   "metadata": {},
   "outputs": [
    {
     "data": {
      "text/plain": [
       "Movie      7814\n",
       "TV Show    1854\n",
       "Name: type, dtype: int64"
      ]
     },
     "execution_count": 32,
     "metadata": {},
     "output_type": "execute_result"
    }
   ],
   "source": [
    "df['type'].value_counts()"
   ]
  },
  {
   "cell_type": "code",
   "execution_count": 33,
   "id": "085dac12",
   "metadata": {},
   "outputs": [
    {
     "data": {
      "text/plain": [
       "unknown country                  8996\n",
       "United States                     253\n",
       "India                             229\n",
       "United Kingdom                     28\n",
       "Canada                             16\n",
       "United Kingdom, United States      12\n",
       "Spain                               8\n",
       "Italy                               8\n",
       "Canada, United States               7\n",
       "United States, United Kingdom       6\n",
       "Name: country, dtype: int64"
      ]
     },
     "execution_count": 33,
     "metadata": {},
     "output_type": "execute_result"
    }
   ],
   "source": [
    "df['country'].value_counts().iloc[:10]"
   ]
  },
  {
   "cell_type": "code",
   "execution_count": 34,
   "id": "e9aae697",
   "metadata": {},
   "outputs": [
    {
     "data": {
      "text/plain": [
       "Mark Knight              113\n",
       "Cannis Holder             61\n",
       "Moonbug Entertainment     37\n",
       "Jay Chapman               34\n",
       "Arthur van Merwijk        30\n",
       "Manny Rodriguez           22\n",
       "John English              20\n",
       "1                         16\n",
       "Brian Volk-Weiss          15\n",
       "Baeble Music              14\n",
       "Name: director, dtype: int64"
      ]
     },
     "execution_count": 34,
     "metadata": {},
     "output_type": "execute_result"
    }
   ],
   "source": [
    "#filtering out unknown directors\n",
    "#top 10 directors\n",
    "df[df['director']!='unknown director']['director'].value_counts().iloc[:10]"
   ]
  },
  {
   "cell_type": "code",
   "execution_count": 35,
   "id": "2a1c6e4d",
   "metadata": {},
   "outputs": [
    {
     "data": {
      "text/plain": [
       "United States                    253\n",
       "India                            229\n",
       "United Kingdom                    28\n",
       "Canada                            16\n",
       "United Kingdom, United States     12\n",
       "Spain                              8\n",
       "Italy                              8\n",
       "Canada, United States              7\n",
       "United States, United Kingdom      6\n",
       "India, United States               5\n",
       "Name: country, dtype: int64"
      ]
     },
     "execution_count": 35,
     "metadata": {},
     "output_type": "execute_result"
    }
   ],
   "source": [
    "#top 10 countries\n",
    "df[df['country']!='unknown country']['country'].value_counts().iloc[:10]"
   ]
  },
  {
   "cell_type": "code",
   "execution_count": 36,
   "id": "f49a0f3b",
   "metadata": {},
   "outputs": [],
   "source": [
    "df_cleaned=df[df['country']!='unknown country']"
   ]
  },
  {
   "cell_type": "code",
   "execution_count": 37,
   "id": "5764e80c",
   "metadata": {},
   "outputs": [],
   "source": [
    "top_10_countries=df[df['country']!='unknown country']['country'].value_counts().iloc[:10]"
   ]
  },
  {
   "cell_type": "code",
   "execution_count": 38,
   "id": "8ea2c717",
   "metadata": {},
   "outputs": [
    {
     "data": {
      "image/png": "[encoded data removed]",
      "text/plain": [
       "<Figure size 640x480 with 1 Axes>"
      ]
     },
     "metadata": {},
     "output_type": "display_data"
    }
   ],
   "source": [
    "sns.countplot(data=df,x='type')\n",
    "plt.show()"
   ]
  },
  {
   "cell_type": "code",
   "execution_count": 39,
   "id": "9a20d752",
   "metadata": {},
   "outputs": [
    {
     "data": {
      "image/png": "[encoded data removed]",
      "text/plain": [
       "<Figure size 640x480 with 1 Axes>"
      ]
     },
     "metadata": {},
     "output_type": "display_data"
    },
    {
     "data": {
      "text/plain": [
       "<Figure size 1000x600 with 0 Axes>"
      ]
     },
     "metadata": {},
     "output_type": "display_data"
    }
   ],
   "source": [
    "sns.countplot(data=df[df['country'].isin(top_10_countries.index)],x='country',order=top_10_countries.index)\n",
    "plt.xticks(rotation=90)\n",
    "plt.xlabel('Top 10 Countries')\n",
    "plt.ylabel('Count of Tv & Movie shows')\n",
    "plt.figure(figsize=(10,6))\n",
    "plt.show()"
   ]
  },
  {
   "cell_type": "markdown",
   "id": "427325cd",
   "metadata": {},
   "source": [
    "#### Insight:\n",
    "*Top 3 countries where most of the movies and TV shows are produced are USA,India,UK.\n",
    "*The gap between the number of movies,TV shows produced in USA and India is very low. Whereas 3rd highest number is too low."
   ]
  },
  {
   "cell_type": "code",
   "execution_count": 40,
   "id": "eda9667a",
   "metadata": {},
   "outputs": [],
   "source": [
    "top_5_rating=df['rating'].value_counts().iloc[:5]"
   ]
  },
  {
   "cell_type": "code",
   "execution_count": 41,
   "id": "cc3c0c59",
   "metadata": {},
   "outputs": [
    {
     "data": {
      "image/png": "[encoded data removed]",
      "text/plain": [
       "<Figure size 640x480 with 1 Axes>"
      ]
     },
     "metadata": {},
     "output_type": "display_data"
    },
    {
     "data": {
      "text/plain": [
       "<Figure size 1000x600 with 0 Axes>"
      ]
     },
     "metadata": {},
     "output_type": "display_data"
    }
   ],
   "source": [
    "sns.countplot(data=df[df['rating'].isin(top_5_rating.index)],x='rating',order=top_5_rating.index,hue='type')\n",
    "plt.xticks(rotation=90)\n",
    "plt.xlabel('Top 5 ratings')\n",
    "plt.ylabel('Count of Tv & Movie shows')\n",
    "plt.figure(figsize=(10,6))\n",
    "plt.show()"
   ]
  },
  {
   "cell_type": "code",
   "execution_count": 42,
   "id": "cf456982",
   "metadata": {},
   "outputs": [],
   "source": [
    "top_10_directors=df[df['director']!='unknown director']['director'].value_counts().sort_values(ascending=False).iloc[:10]"
   ]
  },
  {
   "cell_type": "code",
   "execution_count": 43,
   "id": "31bf1747",
   "metadata": {},
   "outputs": [
    {
     "data": {
      "image/png": "[encoded data removed]",
      "text/plain": [
       "<Figure size 640x480 with 1 Axes>"
      ]
     },
     "metadata": {},
     "output_type": "display_data"
    }
   ],
   "source": [
    "sns.countplot(data=df[df['director'].isin(top_10_directors.index)],x='director',order=top_10_directors.index)\n",
    "plt.xticks(rotation=90)\n",
    "plt.xlabel('Top 10 directors')\n",
    "plt.ylabel('Count of Tv & Movie shows')\n",
    "plt.show()"
   ]
  },
  {
   "cell_type": "code",
   "execution_count": 44,
   "id": "0071f5cc",
   "metadata": {},
   "outputs": [],
   "source": [
    "top_10_year=df['release_year'].value_counts().sort_values(ascending=False).iloc[:10]"
   ]
  },
  {
   "cell_type": "code",
   "execution_count": 45,
   "id": "02179ba1",
   "metadata": {},
   "outputs": [
    {
     "data": {
      "text/plain": [
       "2021    1442\n",
       "2020     962\n",
       "2019     929\n",
       "2018     623\n",
       "2017     562\n",
       "2016     521\n",
       "2014     391\n",
       "2015     378\n",
       "2013     289\n",
       "2011     252\n",
       "Name: release_year, dtype: int64"
      ]
     },
     "execution_count": 45,
     "metadata": {},
     "output_type": "execute_result"
    }
   ],
   "source": [
    "top_10_year"
   ]
  },
  {
   "cell_type": "code",
   "execution_count": 46,
   "id": "475f2a8c",
   "metadata": {},
   "outputs": [
    {
     "data": {
      "image/png": "[encoded data removed]",
      "text/plain": [
       "<Figure size 640x480 with 1 Axes>"
      ]
     },
     "metadata": {},
     "output_type": "display_data"
    }
   ],
   "source": [
    "sns.countplot(data=df[df['release_year'].isin(top_10_year.index)],x='release_year',order=top_10_year.index)\n",
    "plt.xticks(rotation=90)\n",
    "plt.xlabel('Top 10 Years')\n",
    "plt.ylabel('Count of Tv & Movie shows')\n",
    "plt.title('YEARS WITH MOST RELEASED MOVIES AND TV SHOWS')\n",
    "plt.show()"
   ]
  },
  {
   "cell_type": "markdown",
   "id": "c53b60ff",
   "metadata": {},
   "source": [
    "#### Insights:\n",
    "Most of the movies and TV shows in Amazon prime has released in the years between 2019-2021 with a big jump in 2021"
   ]
  },
  {
   "cell_type": "markdown",
   "id": "44fd4647",
   "metadata": {},
   "source": [
    "#### Comparison  TV Shows vs Movies"
   ]
  },
  {
   "cell_type": "code",
   "execution_count": 47,
   "id": "5eb8866a",
   "metadata": {},
   "outputs": [
    {
     "data": {
      "text/html": [
       "<div>\n",
       "<style scoped>\n",
       "    .dataframe tbody tr th:only-of-type {\n",
       "        vertical-align: middle;\n",
       "    }\n",
       "\n",
       "    .dataframe tbody tr th {\n",
       "        vertical-align: top;\n",
       "    }\n",
       "\n",
       "    .dataframe thead th {\n",
       "        text-align: right;\n",
       "    }\n",
       "</style>\n",
       "<table border=\"1\" class=\"dataframe\">\n",
       "  <thead>\n",
       "    <tr style=\"text-align: right;\">\n",
       "      <th></th>\n",
       "      <th>country</th>\n",
       "      <th>Count of Movies</th>\n",
       "    </tr>\n",
       "  </thead>\n",
       "  <tbody>\n",
       "    <tr>\n",
       "      <th>24</th>\n",
       "      <td>India</td>\n",
       "      <td>213</td>\n",
       "    </tr>\n",
       "    <tr>\n",
       "      <th>54</th>\n",
       "      <td>United States</td>\n",
       "      <td>194</td>\n",
       "    </tr>\n",
       "    <tr>\n",
       "      <th>46</th>\n",
       "      <td>United Kingdom</td>\n",
       "      <td>24</td>\n",
       "    </tr>\n",
       "    <tr>\n",
       "      <th>8</th>\n",
       "      <td>Canada</td>\n",
       "      <td>16</td>\n",
       "    </tr>\n",
       "    <tr>\n",
       "      <th>52</th>\n",
       "      <td>United Kingdom, United States</td>\n",
       "      <td>9</td>\n",
       "    </tr>\n",
       "    <tr>\n",
       "      <th>32</th>\n",
       "      <td>Italy</td>\n",
       "      <td>6</td>\n",
       "    </tr>\n",
       "    <tr>\n",
       "      <th>76</th>\n",
       "      <td>United States, United Kingdom</td>\n",
       "      <td>6</td>\n",
       "    </tr>\n",
       "    <tr>\n",
       "      <th>10</th>\n",
       "      <td>Canada, United States</td>\n",
       "      <td>5</td>\n",
       "    </tr>\n",
       "    <tr>\n",
       "      <th>28</th>\n",
       "      <td>India, United States</td>\n",
       "      <td>5</td>\n",
       "    </tr>\n",
       "    <tr>\n",
       "      <th>1</th>\n",
       "      <td>Australia</td>\n",
       "      <td>4</td>\n",
       "    </tr>\n",
       "  </tbody>\n",
       "</table>\n",
       "</div>"
      ],
      "text/plain": [
       "                          country  Count of Movies\n",
       "24                          India              213\n",
       "54                  United States              194\n",
       "46                 United Kingdom               24\n",
       "8                          Canada               16\n",
       "52  United Kingdom, United States                9\n",
       "32                          Italy                6\n",
       "76  United States, United Kingdom                6\n",
       "10          Canada, United States                5\n",
       "28           India, United States                5\n",
       "1                       Australia                4"
      ]
     },
     "execution_count": 47,
     "metadata": {},
     "output_type": "execute_result"
    }
   ],
   "source": [
    "top_10_country_movies=df_cleaned[df_cleaned['type']=='Movie'].groupby('country').aggregate({'title':'count'}).reset_index().sort_values(by='title',ascending=False).rename(columns={'title':'Count of Movies'}).iloc[:10]\n",
    "top_10_country_movies"
   ]
  },
  {
   "cell_type": "code",
   "execution_count": 48,
   "id": "d6b40b87",
   "metadata": {},
   "outputs": [
    {
     "data": {
      "image/png": "[encoded data removed]",
      "text/plain": [
       "<Figure size 640x480 with 1 Axes>"
      ]
     },
     "metadata": {},
     "output_type": "display_data"
    }
   ],
   "source": [
    "plt.bar(x=top_10_country_movies['country'],height=top_10_country_movies['Count of Movies'])\n",
    "plt.xticks(rotation=90)\n",
    "plt.xlabel('Top 10 countries')\n",
    "plt.ylabel('Count of Movies')\n",
    "plt.title('Top 10 country by movies')\n",
    "plt.show()"
   ]
  },
  {
   "cell_type": "markdown",
   "id": "144ffb6e",
   "metadata": {},
   "source": [
    "#### Insight:\n",
    "India and USA are primary countries producing highest quantities of amazon prime movies."
   ]
  },
  {
   "cell_type": "code",
   "execution_count": 49,
   "id": "8835f0d3",
   "metadata": {},
   "outputs": [
    {
     "data": {
      "text/plain": [
       "country\n",
       "United States                    59\n",
       "India                            16\n",
       "Spain                             5\n",
       "United Kingdom                    4\n",
       "United Kingdom, United States     3\n",
       "Canada, United States             2\n",
       "Germany                           2\n",
       "Italy                             2\n",
       "Japan                             2\n",
       "Mexico                            2\n",
       "Name: title, dtype: int64"
      ]
     },
     "execution_count": 49,
     "metadata": {},
     "output_type": "execute_result"
    }
   ],
   "source": [
    "top_10_country_Tv_show=df_cleaned[df_cleaned['type']=='TV Show'].groupby('country')['title'].count().sort_values(ascending=False).iloc[:10]\n",
    "top_10_country_Tv_show"
   ]
  },
  {
   "cell_type": "code",
   "execution_count": 50,
   "id": "ab1acf52",
   "metadata": {},
   "outputs": [
    {
     "data": {
      "image/png": "[encoded data removed]",
      "text/plain": [
       "<Figure size 640x480 with 1 Axes>"
      ]
     },
     "metadata": {},
     "output_type": "display_data"
    }
   ],
   "source": [
    "sns.barplot(x=top_10_country_Tv_show.index,y=top_10_country_Tv_show.values,order=top_10_country_Tv_show.index)\n",
    "plt.xticks(rotation=90)\n",
    "plt.xlabel('Top 10 countries')\n",
    "plt.ylabel('Count of Tv shows')\n",
    "plt.title('Top 10 country by TV shows')\n",
    "plt.show()\n"
   ]
  },
  {
   "cell_type": "markdown",
   "id": "b818c6d2",
   "metadata": {},
   "source": [
    "#### Insight\n",
    "USA produces highest quantities of TV shows each year"
   ]
  },
  {
   "cell_type": "markdown",
   "id": "dc789c32",
   "metadata": {},
   "source": [
    "#### TOP 10 COUNTRIES: Movies vs TV Shows"
   ]
  },
  {
   "cell_type": "code",
   "execution_count": 51,
   "id": "a1d54dbc",
   "metadata": {},
   "outputs": [
    {
     "data": {
      "image/png": "[encoded data removed]",
      "text/plain": [
       "<Figure size 1000x600 with 1 Axes>"
      ]
     },
     "metadata": {},
     "output_type": "display_data"
    }
   ],
   "source": [
    "plt.figure(figsize=(10,6))\n",
    "sns.countplot(data=df[df['country'].isin(top_10_countries.index)],x='country',order=top_10_countries.index,hue='type')\n",
    "plt.xticks(rotation=90)\n",
    "plt.xlabel('Top 10 Countries')\n",
    "plt.ylabel('Count of Tv & Movie shows')\n",
    "plt.title('Number of Movies vs TV Shows')\n",
    "plt.show()"
   ]
  },
  {
   "cell_type": "markdown",
   "id": "940e2967",
   "metadata": {},
   "source": [
    "#### Best week to launch a TV show?"
   ]
  },
  {
   "cell_type": "code",
   "execution_count": 52,
   "id": "d38b8bf7",
   "metadata": {},
   "outputs": [
    {
     "data": {
      "text/html": [
       "<div>\n",
       "<style scoped>\n",
       "    .dataframe tbody tr th:only-of-type {\n",
       "        vertical-align: middle;\n",
       "    }\n",
       "\n",
       "    .dataframe tbody tr th {\n",
       "        vertical-align: top;\n",
       "    }\n",
       "\n",
       "    .dataframe thead th {\n",
       "        text-align: right;\n",
       "    }\n",
       "</style>\n",
       "<table border=\"1\" class=\"dataframe\">\n",
       "  <thead>\n",
       "    <tr style=\"text-align: right;\">\n",
       "      <th></th>\n",
       "      <th>show_id</th>\n",
       "      <th>type</th>\n",
       "      <th>title</th>\n",
       "      <th>director</th>\n",
       "      <th>country</th>\n",
       "      <th>date_added</th>\n",
       "      <th>release_year</th>\n",
       "      <th>rating</th>\n",
       "      <th>duration</th>\n",
       "      <th>listed_in</th>\n",
       "      <th>description</th>\n",
       "    </tr>\n",
       "  </thead>\n",
       "  <tbody>\n",
       "    <tr>\n",
       "      <th>0</th>\n",
       "      <td>s1</td>\n",
       "      <td>Movie</td>\n",
       "      <td>The Grand Seduction</td>\n",
       "      <td>Don McKellar</td>\n",
       "      <td>Canada</td>\n",
       "      <td>March 30, 2021</td>\n",
       "      <td>2014</td>\n",
       "      <td>unknown rating</td>\n",
       "      <td>113 min</td>\n",
       "      <td>[Comedy,  Drama]</td>\n",
       "      <td>A small fishing village must procure a local d...</td>\n",
       "    </tr>\n",
       "    <tr>\n",
       "      <th>1</th>\n",
       "      <td>s2</td>\n",
       "      <td>Movie</td>\n",
       "      <td>Take Care Good Night</td>\n",
       "      <td>Girish Joshi</td>\n",
       "      <td>India</td>\n",
       "      <td>March 30, 2021</td>\n",
       "      <td>2018</td>\n",
       "      <td>13+</td>\n",
       "      <td>110 min</td>\n",
       "      <td>[Drama,  International]</td>\n",
       "      <td>A Metro Family decides to fight a Cyber Crimin...</td>\n",
       "    </tr>\n",
       "    <tr>\n",
       "      <th>2</th>\n",
       "      <td>s3</td>\n",
       "      <td>Movie</td>\n",
       "      <td>Secrets of Deception</td>\n",
       "      <td>Josh Webber</td>\n",
       "      <td>United States</td>\n",
       "      <td>March 30, 2021</td>\n",
       "      <td>2017</td>\n",
       "      <td>unknown rating</td>\n",
       "      <td>74 min</td>\n",
       "      <td>[Action,  Drama,  Suspense]</td>\n",
       "      <td>After a man discovers his wife is cheating on ...</td>\n",
       "    </tr>\n",
       "    <tr>\n",
       "      <th>3</th>\n",
       "      <td>s4</td>\n",
       "      <td>Movie</td>\n",
       "      <td>Pink: Staying True</td>\n",
       "      <td>Sonia Anderson</td>\n",
       "      <td>United States</td>\n",
       "      <td>March 30, 2021</td>\n",
       "      <td>2014</td>\n",
       "      <td>unknown rating</td>\n",
       "      <td>69 min</td>\n",
       "      <td>[Documentary]</td>\n",
       "      <td>Pink breaks the mold once again, bringing her ...</td>\n",
       "    </tr>\n",
       "    <tr>\n",
       "      <th>4</th>\n",
       "      <td>s5</td>\n",
       "      <td>Movie</td>\n",
       "      <td>Monster Maker</td>\n",
       "      <td>Giles Foster</td>\n",
       "      <td>United Kingdom</td>\n",
       "      <td>March 30, 2021</td>\n",
       "      <td>1989</td>\n",
       "      <td>unknown rating</td>\n",
       "      <td>45 min</td>\n",
       "      <td>[Drama,  Fantasy]</td>\n",
       "      <td>Teenage Matt Banting wants to work with a famo...</td>\n",
       "    </tr>\n",
       "    <tr>\n",
       "      <th>...</th>\n",
       "      <td>...</td>\n",
       "      <td>...</td>\n",
       "      <td>...</td>\n",
       "      <td>...</td>\n",
       "      <td>...</td>\n",
       "      <td>...</td>\n",
       "      <td>...</td>\n",
       "      <td>...</td>\n",
       "      <td>...</td>\n",
       "      <td>...</td>\n",
       "      <td>...</td>\n",
       "    </tr>\n",
       "    <tr>\n",
       "      <th>9663</th>\n",
       "      <td>s9664</td>\n",
       "      <td>Movie</td>\n",
       "      <td>Pride Of The Bowery</td>\n",
       "      <td>Joseph H. Lewis</td>\n",
       "      <td>unknown country</td>\n",
       "      <td>unknown date</td>\n",
       "      <td>1940</td>\n",
       "      <td>7+</td>\n",
       "      <td>60 min</td>\n",
       "      <td>[Comedy]</td>\n",
       "      <td>New York City street principles get an East Si...</td>\n",
       "    </tr>\n",
       "    <tr>\n",
       "      <th>9664</th>\n",
       "      <td>s9665</td>\n",
       "      <td>TV Show</td>\n",
       "      <td>Planet Patrol</td>\n",
       "      <td>unknown director</td>\n",
       "      <td>unknown country</td>\n",
       "      <td>unknown date</td>\n",
       "      <td>2018</td>\n",
       "      <td>13+</td>\n",
       "      <td>4 Seasons</td>\n",
       "      <td>[TV Shows]</td>\n",
       "      <td>This is Earth, 2100AD - and these are the adve...</td>\n",
       "    </tr>\n",
       "    <tr>\n",
       "      <th>9665</th>\n",
       "      <td>s9666</td>\n",
       "      <td>Movie</td>\n",
       "      <td>Outpost</td>\n",
       "      <td>Steve Barker</td>\n",
       "      <td>unknown country</td>\n",
       "      <td>unknown date</td>\n",
       "      <td>2008</td>\n",
       "      <td>R</td>\n",
       "      <td>90 min</td>\n",
       "      <td>[Action]</td>\n",
       "      <td>In war-torn Eastern Europe, a world-weary grou...</td>\n",
       "    </tr>\n",
       "    <tr>\n",
       "      <th>9666</th>\n",
       "      <td>s9667</td>\n",
       "      <td>TV Show</td>\n",
       "      <td>Maradona: Blessed Dream</td>\n",
       "      <td>unknown director</td>\n",
       "      <td>unknown country</td>\n",
       "      <td>unknown date</td>\n",
       "      <td>2021</td>\n",
       "      <td>TV-MA</td>\n",
       "      <td>1 Season</td>\n",
       "      <td>[Drama,  Sports]</td>\n",
       "      <td>The series tells the story of Diego Maradona, ...</td>\n",
       "    </tr>\n",
       "    <tr>\n",
       "      <th>9667</th>\n",
       "      <td>s9668</td>\n",
       "      <td>Movie</td>\n",
       "      <td>Harry Brown</td>\n",
       "      <td>Daniel Barber</td>\n",
       "      <td>unknown country</td>\n",
       "      <td>unknown date</td>\n",
       "      <td>2010</td>\n",
       "      <td>R</td>\n",
       "      <td>103 min</td>\n",
       "      <td>[Action,  Drama,  Suspense]</td>\n",
       "      <td>Harry Brown, starring two-time Academy Award w...</td>\n",
       "    </tr>\n",
       "  </tbody>\n",
       "</table>\n",
       "<p>9668 rows × 11 columns</p>\n",
       "</div>"
      ],
      "text/plain": [
       "     show_id     type                    title          director  \\\n",
       "0         s1    Movie      The Grand Seduction      Don McKellar   \n",
       "1         s2    Movie     Take Care Good Night      Girish Joshi   \n",
       "2         s3    Movie     Secrets of Deception       Josh Webber   \n",
       "3         s4    Movie       Pink: Staying True    Sonia Anderson   \n",
       "4         s5    Movie            Monster Maker      Giles Foster   \n",
       "...      ...      ...                      ...               ...   \n",
       "9663   s9664    Movie      Pride Of The Bowery   Joseph H. Lewis   \n",
       "9664   s9665  TV Show            Planet Patrol  unknown director   \n",
       "9665   s9666    Movie                  Outpost      Steve Barker   \n",
       "9666   s9667  TV Show  Maradona: Blessed Dream  unknown director   \n",
       "9667   s9668    Movie              Harry Brown     Daniel Barber   \n",
       "\n",
       "              country      date_added  release_year          rating  \\\n",
       "0              Canada  March 30, 2021          2014  unknown rating   \n",
       "1               India  March 30, 2021          2018             13+   \n",
       "2       United States  March 30, 2021          2017  unknown rating   \n",
       "3       United States  March 30, 2021          2014  unknown rating   \n",
       "4      United Kingdom  March 30, 2021          1989  unknown rating   \n",
       "...               ...             ...           ...             ...   \n",
       "9663  unknown country    unknown date          1940              7+   \n",
       "9664  unknown country    unknown date          2018             13+   \n",
       "9665  unknown country    unknown date          2008               R   \n",
       "9666  unknown country    unknown date          2021           TV-MA   \n",
       "9667  unknown country    unknown date          2010               R   \n",
       "\n",
       "       duration                    listed_in  \\\n",
       "0       113 min             [Comedy,  Drama]   \n",
       "1       110 min      [Drama,  International]   \n",
       "2        74 min  [Action,  Drama,  Suspense]   \n",
       "3        69 min                [Documentary]   \n",
       "4        45 min            [Drama,  Fantasy]   \n",
       "...         ...                          ...   \n",
       "9663     60 min                     [Comedy]   \n",
       "9664  4 Seasons                   [TV Shows]   \n",
       "9665     90 min                     [Action]   \n",
       "9666   1 Season             [Drama,  Sports]   \n",
       "9667    103 min  [Action,  Drama,  Suspense]   \n",
       "\n",
       "                                            description  \n",
       "0     A small fishing village must procure a local d...  \n",
       "1     A Metro Family decides to fight a Cyber Crimin...  \n",
       "2     After a man discovers his wife is cheating on ...  \n",
       "3     Pink breaks the mold once again, bringing her ...  \n",
       "4     Teenage Matt Banting wants to work with a famo...  \n",
       "...                                                 ...  \n",
       "9663  New York City street principles get an East Si...  \n",
       "9664  This is Earth, 2100AD - and these are the adve...  \n",
       "9665  In war-torn Eastern Europe, a world-weary grou...  \n",
       "9666  The series tells the story of Diego Maradona, ...  \n",
       "9667  Harry Brown, starring two-time Academy Award w...  \n",
       "\n",
       "[9668 rows x 11 columns]"
      ]
     },
     "execution_count": 52,
     "metadata": {},
     "output_type": "execute_result"
    }
   ],
   "source": [
    "df"
   ]
  },
  {
   "cell_type": "code",
   "execution_count": 53,
   "id": "f05c6011",
   "metadata": {},
   "outputs": [],
   "source": [
    "df['date_added']=pd.to_datetime(df['date_added'], errors='coerce')"
   ]
  },
  {
   "cell_type": "code",
   "execution_count": 54,
   "id": "f73a3e93",
   "metadata": {},
   "outputs": [],
   "source": [
    "df['week_added'] = df['date_added'].dt.isocalendar().week"
   ]
  },
  {
   "cell_type": "code",
   "execution_count": 55,
   "id": "b1b0edd0",
   "metadata": {},
   "outputs": [
    {
     "data": {
      "text/html": [
       "<div>\n",
       "<style scoped>\n",
       "    .dataframe tbody tr th:only-of-type {\n",
       "        vertical-align: middle;\n",
       "    }\n",
       "\n",
       "    .dataframe tbody tr th {\n",
       "        vertical-align: top;\n",
       "    }\n",
       "\n",
       "    .dataframe thead th {\n",
       "        text-align: right;\n",
       "    }\n",
       "</style>\n",
       "<table border=\"1\" class=\"dataframe\">\n",
       "  <thead>\n",
       "    <tr style=\"text-align: right;\">\n",
       "      <th></th>\n",
       "      <th>show_id</th>\n",
       "      <th>type</th>\n",
       "      <th>title</th>\n",
       "      <th>director</th>\n",
       "      <th>country</th>\n",
       "      <th>date_added</th>\n",
       "      <th>release_year</th>\n",
       "      <th>rating</th>\n",
       "      <th>duration</th>\n",
       "      <th>listed_in</th>\n",
       "      <th>description</th>\n",
       "      <th>week_added</th>\n",
       "    </tr>\n",
       "  </thead>\n",
       "  <tbody>\n",
       "    <tr>\n",
       "      <th>0</th>\n",
       "      <td>s1</td>\n",
       "      <td>Movie</td>\n",
       "      <td>The Grand Seduction</td>\n",
       "      <td>Don McKellar</td>\n",
       "      <td>Canada</td>\n",
       "      <td>2021-03-30</td>\n",
       "      <td>2014</td>\n",
       "      <td>unknown rating</td>\n",
       "      <td>113 min</td>\n",
       "      <td>[Comedy,  Drama]</td>\n",
       "      <td>A small fishing village must procure a local d...</td>\n",
       "      <td>13</td>\n",
       "    </tr>\n",
       "    <tr>\n",
       "      <th>1</th>\n",
       "      <td>s2</td>\n",
       "      <td>Movie</td>\n",
       "      <td>Take Care Good Night</td>\n",
       "      <td>Girish Joshi</td>\n",
       "      <td>India</td>\n",
       "      <td>2021-03-30</td>\n",
       "      <td>2018</td>\n",
       "      <td>13+</td>\n",
       "      <td>110 min</td>\n",
       "      <td>[Drama,  International]</td>\n",
       "      <td>A Metro Family decides to fight a Cyber Crimin...</td>\n",
       "      <td>13</td>\n",
       "    </tr>\n",
       "    <tr>\n",
       "      <th>2</th>\n",
       "      <td>s3</td>\n",
       "      <td>Movie</td>\n",
       "      <td>Secrets of Deception</td>\n",
       "      <td>Josh Webber</td>\n",
       "      <td>United States</td>\n",
       "      <td>2021-03-30</td>\n",
       "      <td>2017</td>\n",
       "      <td>unknown rating</td>\n",
       "      <td>74 min</td>\n",
       "      <td>[Action,  Drama,  Suspense]</td>\n",
       "      <td>After a man discovers his wife is cheating on ...</td>\n",
       "      <td>13</td>\n",
       "    </tr>\n",
       "    <tr>\n",
       "      <th>3</th>\n",
       "      <td>s4</td>\n",
       "      <td>Movie</td>\n",
       "      <td>Pink: Staying True</td>\n",
       "      <td>Sonia Anderson</td>\n",
       "      <td>United States</td>\n",
       "      <td>2021-03-30</td>\n",
       "      <td>2014</td>\n",
       "      <td>unknown rating</td>\n",
       "      <td>69 min</td>\n",
       "      <td>[Documentary]</td>\n",
       "      <td>Pink breaks the mold once again, bringing her ...</td>\n",
       "      <td>13</td>\n",
       "    </tr>\n",
       "    <tr>\n",
       "      <th>4</th>\n",
       "      <td>s5</td>\n",
       "      <td>Movie</td>\n",
       "      <td>Monster Maker</td>\n",
       "      <td>Giles Foster</td>\n",
       "      <td>United Kingdom</td>\n",
       "      <td>2021-03-30</td>\n",
       "      <td>1989</td>\n",
       "      <td>unknown rating</td>\n",
       "      <td>45 min</td>\n",
       "      <td>[Drama,  Fantasy]</td>\n",
       "      <td>Teenage Matt Banting wants to work with a famo...</td>\n",
       "      <td>13</td>\n",
       "    </tr>\n",
       "  </tbody>\n",
       "</table>\n",
       "</div>"
      ],
      "text/plain": [
       "  show_id   type                 title        director         country  \\\n",
       "0      s1  Movie   The Grand Seduction    Don McKellar          Canada   \n",
       "1      s2  Movie  Take Care Good Night    Girish Joshi           India   \n",
       "2      s3  Movie  Secrets of Deception     Josh Webber   United States   \n",
       "3      s4  Movie    Pink: Staying True  Sonia Anderson   United States   \n",
       "4      s5  Movie         Monster Maker    Giles Foster  United Kingdom   \n",
       "\n",
       "  date_added  release_year          rating duration  \\\n",
       "0 2021-03-30          2014  unknown rating  113 min   \n",
       "1 2021-03-30          2018             13+  110 min   \n",
       "2 2021-03-30          2017  unknown rating   74 min   \n",
       "3 2021-03-30          2014  unknown rating   69 min   \n",
       "4 2021-03-30          1989  unknown rating   45 min   \n",
       "\n",
       "                     listed_in  \\\n",
       "0             [Comedy,  Drama]   \n",
       "1      [Drama,  International]   \n",
       "2  [Action,  Drama,  Suspense]   \n",
       "3                [Documentary]   \n",
       "4            [Drama,  Fantasy]   \n",
       "\n",
       "                                         description  week_added  \n",
       "0  A small fishing village must procure a local d...          13  \n",
       "1  A Metro Family decides to fight a Cyber Crimin...          13  \n",
       "2  After a man discovers his wife is cheating on ...          13  \n",
       "3  Pink breaks the mold once again, bringing her ...          13  \n",
       "4  Teenage Matt Banting wants to work with a famo...          13  "
      ]
     },
     "execution_count": 55,
     "metadata": {},
     "output_type": "execute_result"
    }
   ],
   "source": [
    "df.head()"
   ]
  },
  {
   "cell_type": "code",
   "execution_count": 56,
   "id": "98f248e9",
   "metadata": {},
   "outputs": [
    {
     "name": "stdout",
     "output_type": "stream",
     "text": [
      "week_added\n",
      "40    11\n",
      "25    11\n",
      "39    11\n",
      "37    10\n",
      "38     9\n",
      "34     9\n",
      "13     7\n",
      "28     6\n",
      "33     6\n",
      "36     5\n",
      "Name: title, dtype: int64\n"
     ]
    }
   ],
   "source": [
    "top_10_weeks_TV_show=df[df['type']=='TV Show'].groupby('week_added')['title'].count().sort_values(ascending=False).iloc[:10]\n",
    "print(top_10_weeks_TV_show)"
   ]
  },
  {
   "cell_type": "code",
   "execution_count": 57,
   "id": "f9e2b8b6",
   "metadata": {},
   "outputs": [
    {
     "data": {
      "image/png": "[encoded data removed]",
      "text/plain": [
       "<Figure size 640x480 with 1 Axes>"
      ]
     },
     "metadata": {},
     "output_type": "display_data"
    }
   ],
   "source": [
    "sns.barplot(x=top_10_weeks_TV_show.index,y=top_10_weeks_TV_show.values,order=top_10_weeks_TV_show.index)\n",
    "plt.xlabel('Top weeks to release a Tv show')\n",
    "plt.ylabel('Count of Tv show')\n",
    "plt.title('Most Tv shows per week')\n",
    "plt.show()"
   ]
  },
  {
   "cell_type": "markdown",
   "id": "cb42193d",
   "metadata": {},
   "source": [
    "#### Insights:\n",
    "TV shows are notably added in weeks around late June,late/early/mid october,mid september"
   ]
  },
  {
   "cell_type": "markdown",
   "id": "e4aec2a8",
   "metadata": {},
   "source": [
    "#### Best week to launch a Movie?"
   ]
  },
  {
   "cell_type": "code",
   "execution_count": 58,
   "id": "3805f4f4",
   "metadata": {},
   "outputs": [
    {
     "name": "stdout",
     "output_type": "stream",
     "text": [
      "week_added\n",
      "13    11\n",
      "14     1\n",
      "15     1\n",
      "16     1\n",
      "17     1\n",
      "22     1\n",
      "Name: title, dtype: int64\n"
     ]
    }
   ],
   "source": [
    "top_10_weeks_Movies=df[df['type']=='Movie'].groupby('week_added')['title'].count().sort_values(ascending=False).iloc[:10]\n",
    "print(top_10_weeks_Movies)"
   ]
  },
  {
   "cell_type": "code",
   "execution_count": 59,
   "id": "ddd1939a",
   "metadata": {},
   "outputs": [
    {
     "data": {
      "image/png": "[encoded data removed]",
      "text/plain": [
       "<Figure size 640x480 with 1 Axes>"
      ]
     },
     "metadata": {},
     "output_type": "display_data"
    }
   ],
   "source": [
    "sns.barplot(x=top_10_weeks_Movies.index,y=top_10_weeks_Movies.values,order=top_10_weeks_Movies.index)\n",
    "plt.xlabel('Top weeks to release a Movie')\n",
    "plt.ylabel('Count of Movie')\n",
    "plt.title('Most Movies per week')\n",
    "plt.show()"
   ]
  },
  {
   "cell_type": "markdown",
   "id": "a9fdc71c",
   "metadata": {},
   "source": [
    "#### Insights:"
   ]
  },
  {
   "cell_type": "markdown",
   "id": "82bfebb7",
   "metadata": {},
   "source": [
    "#### Best month to launch a TV Show?"
   ]
  },
  {
   "cell_type": "code",
   "execution_count": 61,
   "id": "67e1f899",
   "metadata": {},
   "outputs": [
    {
     "data": {
      "text/html": [
       "<div>\n",
       "<style scoped>\n",
       "    .dataframe tbody tr th:only-of-type {\n",
       "        vertical-align: middle;\n",
       "    }\n",
       "\n",
       "    .dataframe tbody tr th {\n",
       "        vertical-align: top;\n",
       "    }\n",
       "\n",
       "    .dataframe thead th {\n",
       "        text-align: right;\n",
       "    }\n",
       "</style>\n",
       "<table border=\"1\" class=\"dataframe\">\n",
       "  <thead>\n",
       "    <tr style=\"text-align: right;\">\n",
       "      <th></th>\n",
       "      <th>show_id</th>\n",
       "      <th>type</th>\n",
       "      <th>title</th>\n",
       "      <th>director</th>\n",
       "      <th>country</th>\n",
       "      <th>date_added</th>\n",
       "      <th>release_year</th>\n",
       "      <th>rating</th>\n",
       "      <th>duration</th>\n",
       "      <th>listed_in</th>\n",
       "      <th>description</th>\n",
       "      <th>week_added</th>\n",
       "      <th>month_added</th>\n",
       "    </tr>\n",
       "  </thead>\n",
       "  <tbody>\n",
       "    <tr>\n",
       "      <th>0</th>\n",
       "      <td>s1</td>\n",
       "      <td>Movie</td>\n",
       "      <td>The Grand Seduction</td>\n",
       "      <td>Don McKellar</td>\n",
       "      <td>Canada</td>\n",
       "      <td>2021-03-30</td>\n",
       "      <td>2014</td>\n",
       "      <td>unknown rating</td>\n",
       "      <td>113 min</td>\n",
       "      <td>[Comedy,  Drama]</td>\n",
       "      <td>A small fishing village must procure a local d...</td>\n",
       "      <td>13</td>\n",
       "      <td>March</td>\n",
       "    </tr>\n",
       "    <tr>\n",
       "      <th>1</th>\n",
       "      <td>s2</td>\n",
       "      <td>Movie</td>\n",
       "      <td>Take Care Good Night</td>\n",
       "      <td>Girish Joshi</td>\n",
       "      <td>India</td>\n",
       "      <td>2021-03-30</td>\n",
       "      <td>2018</td>\n",
       "      <td>13+</td>\n",
       "      <td>110 min</td>\n",
       "      <td>[Drama,  International]</td>\n",
       "      <td>A Metro Family decides to fight a Cyber Crimin...</td>\n",
       "      <td>13</td>\n",
       "      <td>March</td>\n",
       "    </tr>\n",
       "    <tr>\n",
       "      <th>2</th>\n",
       "      <td>s3</td>\n",
       "      <td>Movie</td>\n",
       "      <td>Secrets of Deception</td>\n",
       "      <td>Josh Webber</td>\n",
       "      <td>United States</td>\n",
       "      <td>2021-03-30</td>\n",
       "      <td>2017</td>\n",
       "      <td>unknown rating</td>\n",
       "      <td>74 min</td>\n",
       "      <td>[Action,  Drama,  Suspense]</td>\n",
       "      <td>After a man discovers his wife is cheating on ...</td>\n",
       "      <td>13</td>\n",
       "      <td>March</td>\n",
       "    </tr>\n",
       "    <tr>\n",
       "      <th>3</th>\n",
       "      <td>s4</td>\n",
       "      <td>Movie</td>\n",
       "      <td>Pink: Staying True</td>\n",
       "      <td>Sonia Anderson</td>\n",
       "      <td>United States</td>\n",
       "      <td>2021-03-30</td>\n",
       "      <td>2014</td>\n",
       "      <td>unknown rating</td>\n",
       "      <td>69 min</td>\n",
       "      <td>[Documentary]</td>\n",
       "      <td>Pink breaks the mold once again, bringing her ...</td>\n",
       "      <td>13</td>\n",
       "      <td>March</td>\n",
       "    </tr>\n",
       "    <tr>\n",
       "      <th>4</th>\n",
       "      <td>s5</td>\n",
       "      <td>Movie</td>\n",
       "      <td>Monster Maker</td>\n",
       "      <td>Giles Foster</td>\n",
       "      <td>United Kingdom</td>\n",
       "      <td>2021-03-30</td>\n",
       "      <td>1989</td>\n",
       "      <td>unknown rating</td>\n",
       "      <td>45 min</td>\n",
       "      <td>[Drama,  Fantasy]</td>\n",
       "      <td>Teenage Matt Banting wants to work with a famo...</td>\n",
       "      <td>13</td>\n",
       "      <td>March</td>\n",
       "    </tr>\n",
       "  </tbody>\n",
       "</table>\n",
       "</div>"
      ],
      "text/plain": [
       "  show_id   type                 title        director         country  \\\n",
       "0      s1  Movie   The Grand Seduction    Don McKellar          Canada   \n",
       "1      s2  Movie  Take Care Good Night    Girish Joshi           India   \n",
       "2      s3  Movie  Secrets of Deception     Josh Webber   United States   \n",
       "3      s4  Movie    Pink: Staying True  Sonia Anderson   United States   \n",
       "4      s5  Movie         Monster Maker    Giles Foster  United Kingdom   \n",
       "\n",
       "  date_added  release_year          rating duration  \\\n",
       "0 2021-03-30          2014  unknown rating  113 min   \n",
       "1 2021-03-30          2018             13+  110 min   \n",
       "2 2021-03-30          2017  unknown rating   74 min   \n",
       "3 2021-03-30          2014  unknown rating   69 min   \n",
       "4 2021-03-30          1989  unknown rating   45 min   \n",
       "\n",
       "                     listed_in  \\\n",
       "0             [Comedy,  Drama]   \n",
       "1      [Drama,  International]   \n",
       "2  [Action,  Drama,  Suspense]   \n",
       "3                [Documentary]   \n",
       "4            [Drama,  Fantasy]   \n",
       "\n",
       "                                         description  week_added month_added  \n",
       "0  A small fishing village must procure a local d...          13       March  \n",
       "1  A Metro Family decides to fight a Cyber Crimin...          13       March  \n",
       "2  After a man discovers his wife is cheating on ...          13       March  \n",
       "3  Pink breaks the mold once again, bringing her ...          13       March  \n",
       "4  Teenage Matt Banting wants to work with a famo...          13       March  "
      ]
     },
     "execution_count": 61,
     "metadata": {},
     "output_type": "execute_result"
    }
   ],
   "source": [
    "df['month_added']=df['date_added'].dt.month_name()\n",
    "df.head()"
   ]
  },
  {
   "cell_type": "code",
   "execution_count": 62,
   "id": "e2dd9ec5",
   "metadata": {},
   "outputs": [
    {
     "name": "stdout",
     "output_type": "stream",
     "text": [
      "month_added\n",
      "September    29\n",
      "June         25\n",
      "August       24\n",
      "October      19\n",
      "July         16\n",
      "Name: title, dtype: int64\n"
     ]
    }
   ],
   "source": [
    "top_5_months_Tv_shows=df[df['type']=='TV Show'].groupby('month_added')['title'].count().sort_values(ascending=False).iloc[:5]\n",
    "print(top_5_months_Tv_shows)"
   ]
  },
  {
   "cell_type": "code",
   "execution_count": 63,
   "id": "c6610b43",
   "metadata": {},
   "outputs": [
    {
     "data": {
      "image/png": "[encoded data removed]",
      "text/plain": [
       "<Figure size 640x480 with 1 Axes>"
      ]
     },
     "metadata": {},
     "output_type": "display_data"
    }
   ],
   "source": [
    "sns.barplot(x=top_5_months_Tv_shows.index,y=top_5_months_Tv_shows.values,order=top_5_months_Tv_shows.index)\n",
    "plt.xlabel('Top months to release a TV show')\n",
    "plt.ylabel('Count of Tv show')\n",
    "plt.title('Most Tv show per month')\n",
    "plt.show()"
   ]
  },
  {
   "cell_type": "markdown",
   "id": "a212d7b5",
   "metadata": {},
   "source": [
    "#### Insights:"
   ]
  },
  {
   "cell_type": "markdown",
   "id": "89056fb2",
   "metadata": {},
   "source": [
    "#### Best month to launch a movie"
   ]
  },
  {
   "cell_type": "code",
   "execution_count": 64,
   "id": "bc873fb0",
   "metadata": {},
   "outputs": [
    {
     "name": "stdout",
     "output_type": "stream",
     "text": [
      "month_added\n",
      "March    9\n",
      "April    5\n",
      "June     1\n",
      "May      1\n",
      "Name: title, dtype: int64\n"
     ]
    }
   ],
   "source": [
    "top_5_months_movies=df[df['type']=='Movie'].groupby('month_added')['title'].count().sort_values(ascending=False).iloc[:5]\n",
    "print(top_5_months_movies)"
   ]
  },
  {
   "cell_type": "code",
   "execution_count": 65,
   "id": "e2fea5c0",
   "metadata": {},
   "outputs": [
    {
     "data": {
      "image/png": "[encoded data removed]",
      "text/plain": [
       "<Figure size 640x480 with 1 Axes>"
      ]
     },
     "metadata": {},
     "output_type": "display_data"
    }
   ],
   "source": [
    "sns.barplot(x=top_5_months_movies.index,y=top_5_months_movies.values,order=top_5_months_movies.index)\n",
    "plt.xlabel('Top months to release a Movie')\n",
    "plt.ylabel('Count of Movies')\n",
    "plt.title('Most movies per month')\n",
    "plt.show()"
   ]
  },
  {
   "cell_type": "markdown",
   "id": "69e1646e",
   "metadata": {},
   "source": [
    "#### Insights:"
   ]
  },
  {
   "cell_type": "markdown",
   "id": "b7c816b1",
   "metadata": {},
   "source": [
    "#### Analysis of actors/directors of different types of shows/movies"
   ]
  },
  {
   "cell_type": "markdown",
   "id": "b606481f",
   "metadata": {},
   "source": [
    "#### Top 10 actors who have appeared in most movies"
   ]
  },
  {
   "cell_type": "code",
   "execution_count": 67,
   "id": "819f156b",
   "metadata": {},
   "outputs": [],
   "source": [
    "df_un['cast']=df_un['cast'].str.strip()"
   ]
  },
  {
   "cell_type": "code",
   "execution_count": 68,
   "id": "67b89cf5",
   "metadata": {},
   "outputs": [
    {
     "data": {
      "text/plain": [
       "cast\n",
       "Abhay Mahajan       2\n",
       "Mahesh Manjrekar    2\n",
       "Sachin Khedekar     2\n",
       "Name: title, dtype: int64"
      ]
     },
     "execution_count": 68,
     "metadata": {},
     "output_type": "execute_result"
    }
   ],
   "source": [
    "top_10_actor_movie=df_un[(df_un['type']=='Movie')&(df_un['cast']!='unknown cast')].groupby('cast')['title'].count().sort_values(ascending=False).iloc[:10]\n",
    "top_10_actor_movie"
   ]
  },
  {
   "cell_type": "code",
   "execution_count": 69,
   "id": "295881fb",
   "metadata": {},
   "outputs": [
    {
     "data": {
      "image/png": "[encoded data removed]",
      "text/plain": [
       "<Figure size 640x480 with 1 Axes>"
      ]
     },
     "metadata": {},
     "output_type": "display_data"
    }
   ],
   "source": [
    "sns.barplot(x=top_10_actor_movie.index,y=top_10_actor_movie.values,order=top_10_actor_movie.index)\n",
    "plt.xlabel('Actors')\n",
    "plt.ylabel('Count of Movies')\n",
    "plt.title('Most Movies by Top actors')\n",
    "plt.xticks(rotation=90)\n",
    "plt.show()"
   ]
  },
  {
   "cell_type": "code",
   "execution_count": 70,
   "id": "ba8ea5ae",
   "metadata": {},
   "outputs": [
    {
     "data": {
      "text/plain": [
       "cast\n",
       "Unknown cast         88\n",
       "1                     6\n",
       "Julie Lemieux         5\n",
       "Karen Suzuki          5\n",
       "Jay Daye              5\n",
       "Daniel Fernandes      5\n",
       "Tracey Erin Smith     5\n",
       "Flare                 5\n",
       "Andrew Leung          5\n",
       "Frank Skinner         5\n",
       "Name: title, dtype: int64"
      ]
     },
     "execution_count": 70,
     "metadata": {},
     "output_type": "execute_result"
    }
   ],
   "source": [
    "top_10_actor_Tv_show=df_un[(df_un['type']=='TV Show')&(df_un['cast']!='unknown cast')].groupby('cast')['title'].count().sort_values(ascending=False).iloc[:10]\n",
    "top_10_actor_Tv_show"
   ]
  },
  {
   "cell_type": "code",
   "execution_count": 71,
   "id": "a4937a5b",
   "metadata": {},
   "outputs": [
    {
     "data": {
      "image/png": "[encoded data removed]",
      "text/plain": [
       "<Figure size 640x480 with 1 Axes>"
      ]
     },
     "metadata": {},
     "output_type": "display_data"
    }
   ],
   "source": [
    "sns.barplot(x=top_10_actor_Tv_show.index,y=top_10_actor_Tv_show.values,order=top_10_actor_Tv_show.index)\n",
    "plt.xlabel('Actors')\n",
    "plt.ylabel('Count of Tv shows')\n",
    "plt.title('Most TV shows by Top actors')\n",
    "plt.xticks(rotation=90)\n",
    "plt.show()"
   ]
  },
  {
   "cell_type": "markdown",
   "id": "f6919d63",
   "metadata": {},
   "source": [
    "#### Top 10 directors who have appeared in most movies"
   ]
  },
  {
   "cell_type": "code",
   "execution_count": 72,
   "id": "154d0236",
   "metadata": {},
   "outputs": [
    {
     "data": {
      "text/plain": [
       "director\n",
       "Mark Knight              113\n",
       "Cannis Holder             61\n",
       "Moonbug Entertainment     37\n",
       "Jay Chapman               34\n",
       "Arthur van Merwijk        30\n",
       "Manny Rodriguez           22\n",
       "John English              20\n",
       "1                         16\n",
       "Brian Volk-Weiss          15\n",
       "Baeble Music              14\n",
       "Name: title, dtype: int64"
      ]
     },
     "execution_count": 72,
     "metadata": {},
     "output_type": "execute_result"
    }
   ],
   "source": [
    "top_10_director_movie=df[(df['type']=='Movie')&(df['director']!='unknown director')].groupby('director')['title'].count().sort_values(ascending=False).iloc[:10]\n",
    "top_10_director_movie"
   ]
  },
  {
   "cell_type": "code",
   "execution_count": 73,
   "id": "c1592e4a",
   "metadata": {},
   "outputs": [
    {
     "data": {
      "image/png": "[encoded data removed]",
      "text/plain": [
       "<Figure size 640x480 with 1 Axes>"
      ]
     },
     "metadata": {},
     "output_type": "display_data"
    }
   ],
   "source": [
    "sns.barplot(x=top_10_director_movie.index,y=top_10_director_movie.values,order=top_10_director_movie.index)\n",
    "plt.xlabel('Directors')\n",
    "plt.ylabel('Count of Movies')\n",
    "plt.title('Most Movies by Top directors')\n",
    "plt.xticks(rotation=90)\n",
    "plt.show()"
   ]
  },
  {
   "cell_type": "markdown",
   "id": "a91b6569",
   "metadata": {},
   "source": [
    "#### Top 10 directors who have appeared in most TV shows"
   ]
  },
  {
   "cell_type": "code",
   "execution_count": 74,
   "id": "73fbcdeb",
   "metadata": {},
   "outputs": [
    {
     "data": {
      "text/plain": [
       "Series([], Name: title, dtype: int64)"
      ]
     },
     "execution_count": 74,
     "metadata": {},
     "output_type": "execute_result"
    }
   ],
   "source": [
    "top_10_director_Tv_show=df[(df['type']=='TV Show')&(df['director']!='unknown director')].groupby('director')['title'].count().sort_values(ascending=False).iloc[:10]\n",
    "top_10_director_Tv_show"
   ]
  },
  {
   "cell_type": "markdown",
   "id": "71357cf8",
   "metadata": {},
   "source": [
    "#### Top genre TV shows which are more popular"
   ]
  },
  {
   "cell_type": "code",
   "execution_count": 75,
   "id": "169ab932",
   "metadata": {},
   "outputs": [
    {
     "data": {
      "text/html": [
       "<div>\n",
       "<style scoped>\n",
       "    .dataframe tbody tr th:only-of-type {\n",
       "        vertical-align: middle;\n",
       "    }\n",
       "\n",
       "    .dataframe tbody tr th {\n",
       "        vertical-align: top;\n",
       "    }\n",
       "\n",
       "    .dataframe thead th {\n",
       "        text-align: right;\n",
       "    }\n",
       "</style>\n",
       "<table border=\"1\" class=\"dataframe\">\n",
       "  <thead>\n",
       "    <tr style=\"text-align: right;\">\n",
       "      <th></th>\n",
       "      <th>show_id</th>\n",
       "      <th>type</th>\n",
       "      <th>title</th>\n",
       "      <th>director</th>\n",
       "      <th>cast</th>\n",
       "      <th>country</th>\n",
       "      <th>date_added</th>\n",
       "      <th>release_year</th>\n",
       "      <th>rating</th>\n",
       "      <th>duration</th>\n",
       "      <th>listed_in</th>\n",
       "      <th>description</th>\n",
       "    </tr>\n",
       "  </thead>\n",
       "  <tbody>\n",
       "    <tr>\n",
       "      <th>2</th>\n",
       "      <td>s2</td>\n",
       "      <td>Movie</td>\n",
       "      <td>Take Care Good Night</td>\n",
       "      <td>Girish Joshi</td>\n",
       "      <td>[Mahesh Manjrekar,  Abhay Mahajan,  Sachin Khe...</td>\n",
       "      <td>India</td>\n",
       "      <td>March 30, 2021</td>\n",
       "      <td>2018</td>\n",
       "      <td>13+</td>\n",
       "      <td>110 min</td>\n",
       "      <td>Drama</td>\n",
       "      <td>A Metro Family decides to fight a Cyber Crimin...</td>\n",
       "    </tr>\n",
       "    <tr>\n",
       "      <th>3</th>\n",
       "      <td>s2</td>\n",
       "      <td>Movie</td>\n",
       "      <td>Take Care Good Night</td>\n",
       "      <td>Girish Joshi</td>\n",
       "      <td>[Mahesh Manjrekar,  Abhay Mahajan,  Sachin Khe...</td>\n",
       "      <td>India</td>\n",
       "      <td>March 30, 2021</td>\n",
       "      <td>2018</td>\n",
       "      <td>13+</td>\n",
       "      <td>110 min</td>\n",
       "      <td>International</td>\n",
       "      <td>A Metro Family decides to fight a Cyber Crimin...</td>\n",
       "    </tr>\n",
       "    <tr>\n",
       "      <th>1052</th>\n",
       "      <td>s554</td>\n",
       "      <td>TV Show</td>\n",
       "      <td>The Lucy Show</td>\n",
       "      <td>Unknown director</td>\n",
       "      <td>[Lucille Ball,  Vivian Vance,  Gale Gordon,  J...</td>\n",
       "      <td>Unknown country</td>\n",
       "      <td>March 30, 2021</td>\n",
       "      <td>1967</td>\n",
       "      <td>13+</td>\n",
       "      <td>3 Seasons</td>\n",
       "      <td>Comedy</td>\n",
       "      <td>After her husband's death, Lucy Carmichael, an...</td>\n",
       "    </tr>\n",
       "    <tr>\n",
       "      <th>2020</th>\n",
       "      <td>s1090</td>\n",
       "      <td>TV Show</td>\n",
       "      <td>Scaredy Squirrel</td>\n",
       "      <td>Unknown director</td>\n",
       "      <td>[Terry McGurrin,  Jonathan Gould,  Pat McKenna...</td>\n",
       "      <td>Unknown country</td>\n",
       "      <td>March 30, 2021</td>\n",
       "      <td>2012</td>\n",
       "      <td>TV-G</td>\n",
       "      <td>4 Seasons</td>\n",
       "      <td>Animation</td>\n",
       "      <td>Based on a series of children's books written ...</td>\n",
       "    </tr>\n",
       "    <tr>\n",
       "      <th>2021</th>\n",
       "      <td>s1090</td>\n",
       "      <td>TV Show</td>\n",
       "      <td>Scaredy Squirrel</td>\n",
       "      <td>Unknown director</td>\n",
       "      <td>[Terry McGurrin,  Jonathan Gould,  Pat McKenna...</td>\n",
       "      <td>Unknown country</td>\n",
       "      <td>March 30, 2021</td>\n",
       "      <td>2012</td>\n",
       "      <td>TV-G</td>\n",
       "      <td>4 Seasons</td>\n",
       "      <td>Kids</td>\n",
       "      <td>Based on a series of children's books written ...</td>\n",
       "    </tr>\n",
       "  </tbody>\n",
       "</table>\n",
       "</div>"
      ],
      "text/plain": [
       "     show_id     type                 title          director  \\\n",
       "2         s2    Movie  Take Care Good Night      Girish Joshi   \n",
       "3         s2    Movie  Take Care Good Night      Girish Joshi   \n",
       "1052    s554  TV Show         The Lucy Show  Unknown director   \n",
       "2020   s1090  TV Show      Scaredy Squirrel  Unknown director   \n",
       "2021   s1090  TV Show      Scaredy Squirrel  Unknown director   \n",
       "\n",
       "                                                   cast          country  \\\n",
       "2     [Mahesh Manjrekar,  Abhay Mahajan,  Sachin Khe...            India   \n",
       "3     [Mahesh Manjrekar,  Abhay Mahajan,  Sachin Khe...            India   \n",
       "1052  [Lucille Ball,  Vivian Vance,  Gale Gordon,  J...  Unknown country   \n",
       "2020  [Terry McGurrin,  Jonathan Gould,  Pat McKenna...  Unknown country   \n",
       "2021  [Terry McGurrin,  Jonathan Gould,  Pat McKenna...  Unknown country   \n",
       "\n",
       "          date_added  release_year rating   duration       listed_in  \\\n",
       "2     March 30, 2021          2018    13+    110 min           Drama   \n",
       "3     March 30, 2021          2018    13+    110 min   International   \n",
       "1052  March 30, 2021          1967    13+  3 Seasons          Comedy   \n",
       "2020  March 30, 2021          2012   TV-G  4 Seasons       Animation   \n",
       "2021  March 30, 2021          2012   TV-G  4 Seasons            Kids   \n",
       "\n",
       "                                            description  \n",
       "2     A Metro Family decides to fight a Cyber Crimin...  \n",
       "3     A Metro Family decides to fight a Cyber Crimin...  \n",
       "1052  After her husband's death, Lucy Carmichael, an...  \n",
       "2020  Based on a series of children's books written ...  \n",
       "2021  Based on a series of children's books written ...  "
      ]
     },
     "execution_count": 75,
     "metadata": {},
     "output_type": "execute_result"
    }
   ],
   "source": [
    "df_unnested.head()"
   ]
  },
  {
   "cell_type": "code",
   "execution_count": 76,
   "id": "abdde8e1",
   "metadata": {},
   "outputs": [],
   "source": [
    "df_unnested['listed_in']=df_unnested['listed_in'].str.strip()"
   ]
  },
  {
   "cell_type": "code",
   "execution_count": 78,
   "id": "1f391480",
   "metadata": {},
   "outputs": [
    {
     "data": {
      "text/html": [
       "<div>\n",
       "<style scoped>\n",
       "    .dataframe tbody tr th:only-of-type {\n",
       "        vertical-align: middle;\n",
       "    }\n",
       "\n",
       "    .dataframe tbody tr th {\n",
       "        vertical-align: top;\n",
       "    }\n",
       "\n",
       "    .dataframe thead th {\n",
       "        text-align: right;\n",
       "    }\n",
       "</style>\n",
       "<table border=\"1\" class=\"dataframe\">\n",
       "  <thead>\n",
       "    <tr style=\"text-align: right;\">\n",
       "      <th></th>\n",
       "      <th>show_id</th>\n",
       "      <th>type</th>\n",
       "      <th>title</th>\n",
       "      <th>director</th>\n",
       "      <th>cast</th>\n",
       "      <th>country</th>\n",
       "      <th>date_added</th>\n",
       "      <th>release_year</th>\n",
       "      <th>rating</th>\n",
       "      <th>duration</th>\n",
       "      <th>listed_in</th>\n",
       "      <th>description</th>\n",
       "    </tr>\n",
       "  </thead>\n",
       "  <tbody>\n",
       "    <tr>\n",
       "      <th>2</th>\n",
       "      <td>s2</td>\n",
       "      <td>Movie</td>\n",
       "      <td>Take Care Good Night</td>\n",
       "      <td>Girish Joshi</td>\n",
       "      <td>[Mahesh Manjrekar,  Abhay Mahajan,  Sachin Khe...</td>\n",
       "      <td>India</td>\n",
       "      <td>March 30, 2021</td>\n",
       "      <td>2018</td>\n",
       "      <td>13+</td>\n",
       "      <td>110 min</td>\n",
       "      <td>Drama</td>\n",
       "      <td>A Metro Family decides to fight a Cyber Crimin...</td>\n",
       "    </tr>\n",
       "    <tr>\n",
       "      <th>3</th>\n",
       "      <td>s2</td>\n",
       "      <td>Movie</td>\n",
       "      <td>Take Care Good Night</td>\n",
       "      <td>Girish Joshi</td>\n",
       "      <td>[Mahesh Manjrekar,  Abhay Mahajan,  Sachin Khe...</td>\n",
       "      <td>India</td>\n",
       "      <td>March 30, 2021</td>\n",
       "      <td>2018</td>\n",
       "      <td>13+</td>\n",
       "      <td>110 min</td>\n",
       "      <td>International</td>\n",
       "      <td>A Metro Family decides to fight a Cyber Crimin...</td>\n",
       "    </tr>\n",
       "    <tr>\n",
       "      <th>1052</th>\n",
       "      <td>s554</td>\n",
       "      <td>TV Show</td>\n",
       "      <td>The Lucy Show</td>\n",
       "      <td>Unknown director</td>\n",
       "      <td>[Lucille Ball,  Vivian Vance,  Gale Gordon,  J...</td>\n",
       "      <td>Unknown country</td>\n",
       "      <td>March 30, 2021</td>\n",
       "      <td>1967</td>\n",
       "      <td>13+</td>\n",
       "      <td>3 Seasons</td>\n",
       "      <td>Comedy</td>\n",
       "      <td>After her husband's death, Lucy Carmichael, an...</td>\n",
       "    </tr>\n",
       "    <tr>\n",
       "      <th>2020</th>\n",
       "      <td>s1090</td>\n",
       "      <td>TV Show</td>\n",
       "      <td>Scaredy Squirrel</td>\n",
       "      <td>Unknown director</td>\n",
       "      <td>[Terry McGurrin,  Jonathan Gould,  Pat McKenna...</td>\n",
       "      <td>Unknown country</td>\n",
       "      <td>March 30, 2021</td>\n",
       "      <td>2012</td>\n",
       "      <td>TV-G</td>\n",
       "      <td>4 Seasons</td>\n",
       "      <td>Animation</td>\n",
       "      <td>Based on a series of children's books written ...</td>\n",
       "    </tr>\n",
       "    <tr>\n",
       "      <th>2021</th>\n",
       "      <td>s1090</td>\n",
       "      <td>TV Show</td>\n",
       "      <td>Scaredy Squirrel</td>\n",
       "      <td>Unknown director</td>\n",
       "      <td>[Terry McGurrin,  Jonathan Gould,  Pat McKenna...</td>\n",
       "      <td>Unknown country</td>\n",
       "      <td>March 30, 2021</td>\n",
       "      <td>2012</td>\n",
       "      <td>TV-G</td>\n",
       "      <td>4 Seasons</td>\n",
       "      <td>Kids</td>\n",
       "      <td>Based on a series of children's books written ...</td>\n",
       "    </tr>\n",
       "  </tbody>\n",
       "</table>\n",
       "</div>"
      ],
      "text/plain": [
       "     show_id     type                 title          director  \\\n",
       "2         s2    Movie  Take Care Good Night      Girish Joshi   \n",
       "3         s2    Movie  Take Care Good Night      Girish Joshi   \n",
       "1052    s554  TV Show         The Lucy Show  Unknown director   \n",
       "2020   s1090  TV Show      Scaredy Squirrel  Unknown director   \n",
       "2021   s1090  TV Show      Scaredy Squirrel  Unknown director   \n",
       "\n",
       "                                                   cast          country  \\\n",
       "2     [Mahesh Manjrekar,  Abhay Mahajan,  Sachin Khe...            India   \n",
       "3     [Mahesh Manjrekar,  Abhay Mahajan,  Sachin Khe...            India   \n",
       "1052  [Lucille Ball,  Vivian Vance,  Gale Gordon,  J...  Unknown country   \n",
       "2020  [Terry McGurrin,  Jonathan Gould,  Pat McKenna...  Unknown country   \n",
       "2021  [Terry McGurrin,  Jonathan Gould,  Pat McKenna...  Unknown country   \n",
       "\n",
       "          date_added  release_year rating   duration      listed_in  \\\n",
       "2     March 30, 2021          2018    13+    110 min          Drama   \n",
       "3     March 30, 2021          2018    13+    110 min  International   \n",
       "1052  March 30, 2021          1967    13+  3 Seasons         Comedy   \n",
       "2020  March 30, 2021          2012   TV-G  4 Seasons      Animation   \n",
       "2021  March 30, 2021          2012   TV-G  4 Seasons           Kids   \n",
       "\n",
       "                                            description  \n",
       "2     A Metro Family decides to fight a Cyber Crimin...  \n",
       "3     A Metro Family decides to fight a Cyber Crimin...  \n",
       "1052  After her husband's death, Lucy Carmichael, an...  \n",
       "2020  Based on a series of children's books written ...  \n",
       "2021  Based on a series of children's books written ...  "
      ]
     },
     "execution_count": 78,
     "metadata": {},
     "output_type": "execute_result"
    }
   ],
   "source": [
    "df_unnested.head()"
   ]
  },
  {
   "cell_type": "code",
   "execution_count": 80,
   "id": "92e00683",
   "metadata": {},
   "outputs": [
    {
     "data": {
      "text/plain": [
       "listed_in\n",
       "Kids                      57\n",
       "Animation                 44\n",
       "Comedy                    26\n",
       "Drama                     24\n",
       "Documentary               20\n",
       "Special Interest          16\n",
       "Action                    16\n",
       "Sports                    12\n",
       "Unscripted                11\n",
       "Suspense                  10\n",
       "International              8\n",
       "TV Shows                   7\n",
       "Arts                       5\n",
       "Entertainment              5\n",
       "and Culture                5\n",
       "Romance                    5\n",
       "Anime                      4\n",
       "LGBTQ                      3\n",
       "Talk Show and Variety      3\n",
       "Faith and Spirituality     3\n",
       "Science Fiction            3\n",
       "Adventure                  2\n",
       "Fantasy                    1\n",
       "Young Adult Audience       1\n",
       "Name: title, dtype: int64"
      ]
     },
     "execution_count": 80,
     "metadata": {},
     "output_type": "execute_result"
    }
   ],
   "source": [
    "df_unnested[df_unnested['type']=='TV Show'].groupby('listed_in')['title'].count().sort_values(ascending=False)"
   ]
  },
  {
   "cell_type": "code",
   "execution_count": 81,
   "id": "0be2d528",
   "metadata": {},
   "outputs": [],
   "source": [
    "top_10_TV_show_genres=df_unnested[df_unnested['type']=='TV Show']['listed_in'].value_counts().iloc[:10]"
   ]
  },
  {
   "cell_type": "code",
   "execution_count": 84,
   "id": "d5db217b",
   "metadata": {},
   "outputs": [
    {
     "data": {
      "image/png": "[encoded data removed]",
      "text/plain": [
       "<Figure size 640x480 with 1 Axes>"
      ]
     },
     "metadata": {},
     "output_type": "display_data"
    }
   ],
   "source": [
    "sns.barplot(x=top_10_TV_show_genres.index,y=top_10_TV_show_genres.values,order=top_10_TV_show_genres.index)\n",
    "plt.xlabel('Genres')\n",
    "plt.ylabel('Count of TV Shows')\n",
    "plt.title('Most TV Show by Genres')\n",
    "plt.xticks(rotation=90)\n",
    "plt.show()\n"
   ]
  },
  {
   "cell_type": "markdown",
   "id": "c6d9aa62",
   "metadata": {},
   "source": [
    "#### After how many days the movie will be added to Prime after the release of the movie"
   ]
  },
  {
   "cell_type": "code",
   "execution_count": 85,
   "id": "0a643012",
   "metadata": {},
   "outputs": [
    {
     "data": {
      "image/png": "[encoded data removed]",
      "text/plain": [
       "<Figure size 1000x600 with 1 Axes>"
      ]
     },
     "metadata": {},
     "output_type": "display_data"
    }
   ],
   "source": [
    "# Plot the distribution of release years\n",
    "plt.figure(figsize=(10, 6))\n",
    "plt.title('Distribution of Release Years')\n",
    "sns.histplot(df['release_year'], bins=30, kde=False)\n",
    "plt.xlabel('Release Year')\n",
    "plt.ylabel('Frequency')\n",
    "plt.show()"
   ]
  },
  {
   "cell_type": "code",
   "execution_count": 86,
   "id": "ec4a5c9a",
   "metadata": {},
   "outputs": [
    {
     "data": {
      "image/png": "[encoded data removed]",
      "text/plain": [
       "<Figure size 1000x600 with 1 Axes>"
      ]
     },
     "metadata": {},
     "output_type": "display_data"
    }
   ],
   "source": [
    "# Plot a boxplot of the days to add movies\n",
    "plt.figure(figsize=(10, 6))\n",
    "sns.boxplot(df['release_year'])\n",
    "plt.title('Boxplot of Release Years ')\n",
    "plt.xlabel('Years')\n",
    "plt.tight_layout()\n",
    "plt.show()"
   ]
  },
  {
   "cell_type": "code",
   "execution_count": 87,
   "id": "25b03fd1",
   "metadata": {},
   "outputs": [],
   "source": [
    "df['release_year']=pd.to_datetime(df['release_year'],format='%Y')\n",
    "df['days_to_add']=df['date_added']-df['release_year']"
   ]
  },
  {
   "cell_type": "code",
   "execution_count": 88,
   "id": "91b8e5b4",
   "metadata": {},
   "outputs": [
    {
     "data": {
      "text/plain": [
       "0   238 days\n",
       "Name: days_to_add, dtype: timedelta64[ns]"
      ]
     },
     "execution_count": 88,
     "metadata": {},
     "output_type": "execute_result"
    }
   ],
   "source": [
    "df['days_to_add'].mode()"
   ]
  },
  {
   "cell_type": "markdown",
   "id": "be4b0bf8",
   "metadata": {},
   "source": [
    "#### Insights:\n",
    "After release it will take approximately 238 days to be added in Amazon Prime for most of the Movies/Tv shows."
   ]
  },
  {
   "cell_type": "markdown",
   "id": "b41a35ac",
   "metadata": {},
   "source": [
    "### Summarized Recommendations\n"
   ]
  },
  {
   "cell_type": "markdown",
   "id": "c3febce1",
   "metadata": {},
   "source": [
    "1.Most content on prime is rated for teenegers which is rated as 13+ with no harmful and violent content.\n",
    "2.Best Time to release : For TV shows it is in september,june august and for movies it is in march ,april.\n",
    "3.Popular genres in movies are drama and for TV shows it's Kid and animation.\n",
    "4.Actors like Abhay Mahajan and Mahesh Manjrekar are popular face in movies. Canadian voice actress Julie lemieux is famous in   TV shows\n",
    "5.British DJ Mark knight and Cannis Holder produced most of the movies stremed in amazon Prime"
   ]
  },
  {
   "attachments": {
    "11499.jpg": {
     "image/jpeg": "[encoded data removed]"
    }
   },
   "cell_type": "markdown",
   "id": "4bda58b1",
   "metadata": {},
   "source": [
    "![11499.jpg](attachment:11499.jpg)"
   ]
  },
  {
   "cell_type": "markdown",
   "id": "b411275e",
   "metadata": {},
   "source": []
  },
  {
   "cell_type": "code",
   "execution_count": null,
   "id": "6a1d5638",
   "metadata": {},
   "outputs": [],
   "source": []
  }
 ],
 "metadata": {
  "kernelspec": {
   "display_name": "Python 3 (ipykernel)",
   "language": "python",
   "name": "python3"
  },
  "language_info": {
   "codemirror_mode": {
    "name": "ipython",
    "version": 3
   },
   "file_extension": ".py",
   "mimetype": "text/x-python",
   "name": "python",
   "nbconvert_exporter": "python",
   "pygments_lexer": "ipython3",
   "version": "3.11.3"
  }
 },
 "nbformat": 4,
 "nbformat_minor": 5
}
